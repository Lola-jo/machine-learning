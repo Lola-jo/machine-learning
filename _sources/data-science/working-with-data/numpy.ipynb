{
 "cells": [
  {
   "cell_type": "markdown",
   "id": "7b59b02d",
   "metadata": {},
   "source": [
    "# NumPy\n",
    "\n",
    "NumPy is the fundamental package for scientific computing in Python. It is a Python library that provides a multidimensional array object, various derived objects (such as masked arrays and matrices), and an assortment of routines for fast operations on arrays, including mathematical, logical, shape manipulation, sorting, selecting, I/O, discrete Fourier transforms, basic linear algebra, basic statistical operations, random simulation and much more.\n",
    "\n",
    "## Basic introduction to array\n",
    "\n",
    "NumPy’s main object is the homogeneous multidimensional array. It is a table of elements (usually numbers), all of the same type, indexed by a tuple of non-negative integers. In NumPy dimensions are called axes.\n",
    "\n",
    "For example, the array for the coordinates of a point in 3D space, `[1, 2, 1]`, has one axis. That axis has 3 elements in it, so we say it has a length of 3. In the example pictured below, the array has 2 axes. The first axis has a length of 2, the second axis has a length of 3."
   ]
  },
  {
   "cell_type": "code",
   "execution_count": 1,
   "id": "66d8708a",
   "metadata": {},
   "outputs": [
    {
     "data": {
      "text/plain": [
       "[[1.0, 0.0, 0.0], [0.0, 1.0, 2.0]]"
      ]
     },
     "execution_count": 1,
     "metadata": {},
     "output_type": "execute_result"
    }
   ],
   "source": [
    "[[1., 0., 0.],\n",
    " [0., 1., 2.]]"
   ]
  },
  {
   "cell_type": "markdown",
   "id": "f5dc2d88",
   "metadata": {},
   "source": [
    "### Create a basic array\n",
    "\n",
    "To create a NumPy array, you can use the function `np.array()`.\n",
    "\n",
    "All you need to do to create a simple array is pass a list to it. If you choose to, you can also specify the type of data in your list."
   ]
  },
  {
   "cell_type": "code",
   "execution_count": 2,
   "id": "81bbfbe4",
   "metadata": {},
   "outputs": [
    {
     "data": {
      "text/plain": [
       "array([1, 2, 3])"
      ]
     },
     "execution_count": 2,
     "metadata": {},
     "output_type": "execute_result"
    }
   ],
   "source": [
    "import numpy as np\n",
    "a = np.array([1, 2, 3])\n",
    "a"
   ]
  },
  {
   "cell_type": "markdown",
   "id": "215c9ed1",
   "metadata": {},
   "source": [
    "Besides creating an array from a sequence of elements, you can easily create an array filled with `0`’s:"
   ]
  },
  {
   "cell_type": "code",
   "execution_count": 3,
   "id": "f1aaf5f5",
   "metadata": {},
   "outputs": [
    {
     "data": {
      "text/plain": [
       "array([0., 0.])"
      ]
     },
     "execution_count": 3,
     "metadata": {},
     "output_type": "execute_result"
    }
   ],
   "source": [
    "np.zeros(2)"
   ]
  },
  {
   "cell_type": "markdown",
   "id": "239dade7",
   "metadata": {},
   "source": [
    "Or an array filled with 1’s:"
   ]
  },
  {
   "cell_type": "code",
   "execution_count": 4,
   "id": "af3c373b",
   "metadata": {},
   "outputs": [
    {
     "data": {
      "text/plain": [
       "array([1., 1.])"
      ]
     },
     "execution_count": 4,
     "metadata": {},
     "output_type": "execute_result"
    }
   ],
   "source": [
    "np.ones(2)"
   ]
  },
  {
   "cell_type": "markdown",
   "id": "cf378ce4",
   "metadata": {},
   "source": [
    "Or even an empty array! The function `empty` creates an array whose initial content is random and depends on the state of the memory. The reason to use `empty` over `zeros` (or something similar) is speed - just make sure to fill every element afterwards!"
   ]
  },
  {
   "cell_type": "code",
   "execution_count": 5,
   "id": "e94ac281",
   "metadata": {},
   "outputs": [
    {
     "data": {
      "text/plain": [
       "array([1., 1.])"
      ]
     },
     "execution_count": 5,
     "metadata": {},
     "output_type": "execute_result"
    }
   ],
   "source": [
    "np.empty(2) "
   ]
  },
  {
   "cell_type": "markdown",
   "id": "0dd80993",
   "metadata": {},
   "source": [
    "You can create an array with a range of elements:"
   ]
  },
  {
   "cell_type": "code",
   "execution_count": 6,
   "id": "6d9dbbdd",
   "metadata": {},
   "outputs": [
    {
     "data": {
      "text/plain": [
       "array([0, 1, 2, 3])"
      ]
     },
     "execution_count": 6,
     "metadata": {},
     "output_type": "execute_result"
    }
   ],
   "source": [
    "np.arange(4)"
   ]
  },
  {
   "cell_type": "markdown",
   "id": "8fb210f4",
   "metadata": {},
   "source": [
    "And even an array that contains a range of evenly spaced intervals. To do this, you will specify the **first number**, **last number**, and the **step size**."
   ]
  },
  {
   "cell_type": "code",
   "execution_count": 7,
   "id": "4b2b292d",
   "metadata": {},
   "outputs": [
    {
     "data": {
      "text/plain": [
       "array([2, 4, 6, 8])"
      ]
     },
     "execution_count": 7,
     "metadata": {},
     "output_type": "execute_result"
    }
   ],
   "source": [
    "np.arange(2, 9, 2)"
   ]
  },
  {
   "cell_type": "markdown",
   "id": "7a01eb4c",
   "metadata": {},
   "source": [
    "You can also use `np.linspace()` to create an array with values that are spaced linearly in a specified interval:"
   ]
  },
  {
   "cell_type": "code",
   "execution_count": 8,
   "id": "32fc3b56",
   "metadata": {},
   "outputs": [
    {
     "data": {
      "text/plain": [
       "array([ 0. ,  2.5,  5. ,  7.5, 10. ])"
      ]
     },
     "execution_count": 8,
     "metadata": {},
     "output_type": "execute_result"
    }
   ],
   "source": [
    "np.linspace(0, 10, num=5)"
   ]
  },
  {
   "cell_type": "markdown",
   "id": "880c31ac",
   "metadata": {},
   "source": [
    "While the default data type is floating point (`np.float64`), you can explicitly specify which data type you want using the `dtype` keyword."
   ]
  },
  {
   "cell_type": "code",
   "execution_count": 9,
   "id": "74e05c92",
   "metadata": {},
   "outputs": [
    {
     "data": {
      "text/plain": [
       "array([1, 1])"
      ]
     },
     "execution_count": 9,
     "metadata": {},
     "output_type": "execute_result"
    }
   ],
   "source": [
    "np.ones(2, dtype=np.int64)"
   ]
  },
  {
   "cell_type": "markdown",
   "id": "84e69d29",
   "metadata": {},
   "source": [
    "### Adding, removing, and sorting elements\n",
    "\n",
    "Sorting an element is simple with `np.sort()`. You can specify the axis, kind, and order when you call the function.\n",
    "\n",
    "If you start with this array:"
   ]
  },
  {
   "cell_type": "code",
   "execution_count": 10,
   "id": "2d118134",
   "metadata": {},
   "outputs": [],
   "source": [
    "arr = np.array([2, 1, 5, 3, 7, 4, 6, 8])"
   ]
  },
  {
   "cell_type": "markdown",
   "id": "a67c2676",
   "metadata": {},
   "source": [
    "You can quickly sort the numbers in ascending order with:"
   ]
  },
  {
   "cell_type": "code",
   "execution_count": 11,
   "id": "73d7f580",
   "metadata": {},
   "outputs": [
    {
     "data": {
      "text/plain": [
       "array([1, 2, 3, 4, 5, 6, 7, 8])"
      ]
     },
     "execution_count": 11,
     "metadata": {},
     "output_type": "execute_result"
    }
   ],
   "source": [
    "np.sort(arr)"
   ]
  },
  {
   "cell_type": "markdown",
   "id": "d57cacbb",
   "metadata": {},
   "source": [
    "In addition to sort, which returns a sorted copy of an array, you can use:\n",
    "\n",
    "- `argsort`, which is an indirect sort along a specified axis,\n",
    "- `lexsort`, which is an indirect stable sort on multiple keys,\n",
    "- `searchsorted`, which will find elements in a sorted array, \n",
    "- `partition`, which is a partial sort.\n",
    "\n",
    "If you start with these arrays:"
   ]
  },
  {
   "cell_type": "code",
   "execution_count": 12,
   "id": "d4173806",
   "metadata": {},
   "outputs": [],
   "source": [
    "a = np.array([1, 2, 3, 4])\n",
    "b = np.array([5, 6, 7, 8])"
   ]
  },
  {
   "cell_type": "markdown",
   "id": "e381f5ef",
   "metadata": {},
   "source": [
    "You can concatenate them with `np.concatenate()`."
   ]
  },
  {
   "cell_type": "code",
   "execution_count": 13,
   "id": "597bd2d9",
   "metadata": {},
   "outputs": [
    {
     "data": {
      "text/plain": [
       "array([1, 2, 3, 4, 5, 6, 7, 8])"
      ]
     },
     "execution_count": 13,
     "metadata": {},
     "output_type": "execute_result"
    }
   ],
   "source": [
    "np.concatenate((a, b))"
   ]
  },
  {
   "cell_type": "markdown",
   "id": "d1ffd3e5",
   "metadata": {},
   "source": [
    "Or, if you start with these arrays:"
   ]
  },
  {
   "cell_type": "code",
   "execution_count": 14,
   "id": "48c10f51",
   "metadata": {},
   "outputs": [],
   "source": [
    "x = np.array([[1, 2], [3, 4]])\n",
    "y = np.array([[5, 6]])"
   ]
  },
  {
   "cell_type": "markdown",
   "id": "8b745dfd",
   "metadata": {},
   "source": [
    "You can concatenate them with:"
   ]
  },
  {
   "cell_type": "code",
   "execution_count": 15,
   "id": "244cd41d",
   "metadata": {},
   "outputs": [
    {
     "data": {
      "text/plain": [
       "array([[1, 2],\n",
       "       [3, 4],\n",
       "       [5, 6]])"
      ]
     },
     "execution_count": 15,
     "metadata": {},
     "output_type": "execute_result"
    }
   ],
   "source": [
    "np.concatenate((x, y), axis=0)"
   ]
  },
  {
   "cell_type": "markdown",
   "id": "70bbef31",
   "metadata": {},
   "source": [
    "In order to remove elements from an array, it’s simple to use indexing to select the elements that you want to keep.\n",
    "\n",
    "### NumPy array attributes\n",
    "\n",
    "NumPy’s array class is called `ndarray`. It is also known by the alias `array`. Note that `numpy.array` is not the same as the Standard Python Library class `array.array`, which only handles one-dimensional arrays and offers less functionality. The more important attributes of an `ndarray` object are:\n",
    "\n",
    "- ndarray.ndim\n",
    "    The number of axes (dimensions) of the array."
   ]
  },
  {
   "cell_type": "code",
   "execution_count": 16,
   "id": "33391ff9",
   "metadata": {},
   "outputs": [
    {
     "data": {
      "text/plain": [
       "array([[ 0,  1,  2,  3,  4],\n",
       "       [ 5,  6,  7,  8,  9],\n",
       "       [10, 11, 12, 13, 14]])"
      ]
     },
     "execution_count": 16,
     "metadata": {},
     "output_type": "execute_result"
    }
   ],
   "source": [
    "import numpy as np\n",
    "a = np.arange(15).reshape(3, 5)\n",
    "a"
   ]
  },
  {
   "cell_type": "code",
   "execution_count": 17,
   "id": "353e7d15",
   "metadata": {},
   "outputs": [
    {
     "data": {
      "text/plain": [
       "2"
      ]
     },
     "execution_count": 17,
     "metadata": {},
     "output_type": "execute_result"
    }
   ],
   "source": [
    "a.ndim"
   ]
  },
  {
   "cell_type": "markdown",
   "id": "ea9ae5c1",
   "metadata": {},
   "source": [
    "- ndarray.shape\n",
    "    The dimensions of the array. This is a tuple of integers indicating the size of the array in each dimension. For a matrix with *n* rows and *m* columns, `shape` will be `(n,m)`. The length of the `shape` tuple is therefore the number of axes, `ndim`."
   ]
  },
  {
   "cell_type": "code",
   "execution_count": 18,
   "id": "f81e6343",
   "metadata": {},
   "outputs": [
    {
     "data": {
      "text/plain": [
       "(3, 5)"
      ]
     },
     "execution_count": 18,
     "metadata": {},
     "output_type": "execute_result"
    }
   ],
   "source": [
    "a.shape"
   ]
  },
  {
   "cell_type": "markdown",
   "id": "84eb68cb",
   "metadata": {},
   "source": [
    "- ndarray.size\n",
    "    The total number of elements of the array. This is equal to the product of the elements of `shape`."
   ]
  },
  {
   "cell_type": "code",
   "execution_count": 19,
   "id": "067ffbe8",
   "metadata": {},
   "outputs": [
    {
     "data": {
      "text/plain": [
       "15"
      ]
     },
     "execution_count": 19,
     "metadata": {},
     "output_type": "execute_result"
    }
   ],
   "source": [
    "a.size"
   ]
  },
  {
   "cell_type": "markdown",
   "id": "0080d12d",
   "metadata": {},
   "source": [
    "- ndarray.dtype\n",
    "    An object describing the type of the elements in the array. One can create or specify dtype’s using standard Python types. Additionally NumPy provides types of its own. numpy.int32, numpy.int16, and numpy.float64 are some examples."
   ]
  },
  {
   "cell_type": "code",
   "execution_count": 20,
   "id": "1c19a68a",
   "metadata": {},
   "outputs": [
    {
     "data": {
      "text/plain": [
       "dtype('int64')"
      ]
     },
     "execution_count": 20,
     "metadata": {},
     "output_type": "execute_result"
    }
   ],
   "source": [
    "a.dtype"
   ]
  },
  {
   "cell_type": "code",
   "execution_count": 21,
   "id": "161c4735",
   "metadata": {},
   "outputs": [
    {
     "data": {
      "text/plain": [
       "'int64'"
      ]
     },
     "execution_count": 21,
     "metadata": {},
     "output_type": "execute_result"
    }
   ],
   "source": [
    "a.dtype.name"
   ]
  },
  {
   "cell_type": "markdown",
   "id": "0392f3ac",
   "metadata": {},
   "source": [
    "- ndarray.itemsize\n",
    "    The size in bytes of each element of the array. For example, an array of elements of type `float64` has `itemsize` 8 (=64/8), while one of type `complex32` has `itemsize` 4 (=32/8). It is equivalent to `ndarray.dtype.itemsize`."
   ]
  },
  {
   "cell_type": "code",
   "execution_count": 22,
   "id": "4eda170e",
   "metadata": {},
   "outputs": [
    {
     "data": {
      "text/plain": [
       "8"
      ]
     },
     "execution_count": 22,
     "metadata": {},
     "output_type": "execute_result"
    }
   ],
   "source": [
    "a.itemsize"
   ]
  },
  {
   "cell_type": "markdown",
   "id": "cb29ae41",
   "metadata": {},
   "source": [
    "- ndarray.data\n",
    "    The buffer containing the actual elements of the array. Normally, we won’t need to use this attribute because we will access the elements in an array using indexing facilities."
   ]
  },
  {
   "cell_type": "code",
   "execution_count": 23,
   "id": "e79dbd1c",
   "metadata": {},
   "outputs": [
    {
     "data": {
      "text/plain": [
       "<memory at 0x7f737cf972b0>"
      ]
     },
     "execution_count": 23,
     "metadata": {},
     "output_type": "execute_result"
    }
   ],
   "source": [
    "a.data"
   ]
  },
  {
   "cell_type": "markdown",
   "id": "cfdda3b2",
   "metadata": {},
   "source": [
    "### Reshape an array\n",
    "\n",
    "Using `arr.reshape()` will give a new shape to an array without changing the data. Just remember that when you use the reshape method, the array you want to produce needs to have the same number of elements as the original array. If you start with an array with 12 elements, you’ll need to make sure that your new array also has a total of 12 elements.\n",
    "\n",
    "If you start with this array:"
   ]
  },
  {
   "cell_type": "code",
   "execution_count": 24,
   "id": "981aeccd",
   "metadata": {},
   "outputs": [
    {
     "data": {
      "text/plain": [
       "array([0, 1, 2, 3, 4, 5])"
      ]
     },
     "execution_count": 24,
     "metadata": {},
     "output_type": "execute_result"
    }
   ],
   "source": [
    "a = np.arange(6)\n",
    "a"
   ]
  },
  {
   "cell_type": "markdown",
   "id": "561900ec",
   "metadata": {},
   "source": [
    "You can use `reshape()` to reshape your array. For example, you can reshape this array to an array with three rows and two columns:"
   ]
  },
  {
   "cell_type": "code",
   "execution_count": 25,
   "id": "a5b80633",
   "metadata": {},
   "outputs": [
    {
     "data": {
      "text/plain": [
       "array([[0, 1],\n",
       "       [2, 3],\n",
       "       [4, 5]])"
      ]
     },
     "execution_count": 25,
     "metadata": {},
     "output_type": "execute_result"
    }
   ],
   "source": [
    "b = a.reshape(3, 2)\n",
    "b"
   ]
  },
  {
   "cell_type": "markdown",
   "id": "71727f96",
   "metadata": {},
   "source": [
    "With `np.reshape`, you can specify a few optional parameters:"
   ]
  },
  {
   "cell_type": "code",
   "execution_count": 26,
   "id": "270ad633",
   "metadata": {},
   "outputs": [
    {
     "data": {
      "text/plain": [
       "array([[0, 1, 2, 3, 4, 5]])"
      ]
     },
     "execution_count": 26,
     "metadata": {},
     "output_type": "execute_result"
    }
   ],
   "source": [
    "np.reshape(a, newshape=(1, 6), order='C')"
   ]
  },
  {
   "cell_type": "markdown",
   "id": "bd81a0fe",
   "metadata": {},
   "source": [
    "`a` is the array to be reshaped.\n",
    "\n",
    "`newshape` is the new shape you want. You can specify an integer or a tuple of integers. If you specify an integer, the result will be an array of that length. The shape should be compatible with the original shape.\n",
    "\n",
    "`order:` `C` means to read/write the elements using C-like index order, `F` means to read/write the elements using Fortran-like index order, `A` means to read/write the elements in Fortran-like index order if a is Fortran contiguous in memory, C-like order otherwise. (This is an optional parameter and doesn’t need to be specified.)\n",
    "\n",
    "### Convert a 1D array into a 2D array(add a new axis to an array)\n",
    "\n",
    "You can use `np.newaxis` and `np.expand_dims` to increase the dimensions of your existing array.\n",
    "\n",
    "Using `np.newaxis` will increase the dimensions of your array by one dimension when used once. This means that a 1D array will become a 2D array, a 2D array will become a 3D array, and so on.\n",
    "\n",
    "For example, if you start with this array:"
   ]
  },
  {
   "cell_type": "code",
   "execution_count": 27,
   "id": "77a02ab2",
   "metadata": {},
   "outputs": [
    {
     "data": {
      "text/plain": [
       "(6,)"
      ]
     },
     "execution_count": 27,
     "metadata": {},
     "output_type": "execute_result"
    }
   ],
   "source": [
    "a = np.array([1, 2, 3, 4, 5, 6])\n",
    "a.shape"
   ]
  },
  {
   "cell_type": "markdown",
   "id": "c6a6ce4a",
   "metadata": {},
   "source": [
    "You can use `np.newaxis` to add a new axis:"
   ]
  },
  {
   "cell_type": "code",
   "execution_count": 28,
   "id": "52cc2902",
   "metadata": {},
   "outputs": [
    {
     "data": {
      "text/plain": [
       "(1, 6)"
      ]
     },
     "execution_count": 28,
     "metadata": {},
     "output_type": "execute_result"
    }
   ],
   "source": [
    "a2 = a[np.newaxis, :]\n",
    "a2.shape"
   ]
  },
  {
   "cell_type": "markdown",
   "id": "f5db93d5",
   "metadata": {},
   "source": [
    "You can explicitly convert a 1D array with either a row vector or a column vector using `np.newaxis`. For example, you can convert a 1D array to a row vector by inserting an axis along the first dimension:"
   ]
  },
  {
   "cell_type": "code",
   "execution_count": 29,
   "id": "780bc019",
   "metadata": {},
   "outputs": [
    {
     "data": {
      "text/plain": [
       "(1, 6)"
      ]
     },
     "execution_count": 29,
     "metadata": {},
     "output_type": "execute_result"
    }
   ],
   "source": [
    "row_vector = a[np.newaxis, :]\n",
    "row_vector.shape"
   ]
  },
  {
   "cell_type": "markdown",
   "id": "bf078fbe",
   "metadata": {},
   "source": [
    "Or, for a column vector, you can insert an axis along the second dimension:"
   ]
  },
  {
   "cell_type": "code",
   "execution_count": 30,
   "id": "04fb804e",
   "metadata": {},
   "outputs": [
    {
     "data": {
      "text/plain": [
       "(6, 1)"
      ]
     },
     "execution_count": 30,
     "metadata": {},
     "output_type": "execute_result"
    }
   ],
   "source": [
    "col_vector = a[:, np.newaxis]\n",
    "col_vector.shape"
   ]
  },
  {
   "cell_type": "markdown",
   "id": "42860a3e",
   "metadata": {},
   "source": [
    "You can also expand an array by inserting a new axis at a specified position with `np.expand_dims`.\n",
    "\n",
    "For example, if you start with this array:"
   ]
  },
  {
   "cell_type": "code",
   "execution_count": 31,
   "id": "58beb96f",
   "metadata": {},
   "outputs": [
    {
     "data": {
      "text/plain": [
       "(6,)"
      ]
     },
     "execution_count": 31,
     "metadata": {},
     "output_type": "execute_result"
    }
   ],
   "source": [
    "a = np.array([1, 2, 3, 4, 5, 6])\n",
    "a.shape"
   ]
  },
  {
   "cell_type": "markdown",
   "id": "bf985e2a",
   "metadata": {},
   "source": [
    "You can use np.expand_dims to add an axis at index position 1 with:"
   ]
  },
  {
   "cell_type": "code",
   "execution_count": 32,
   "id": "45f7abfb",
   "metadata": {},
   "outputs": [
    {
     "data": {
      "text/plain": [
       "(6, 1)"
      ]
     },
     "execution_count": 32,
     "metadata": {},
     "output_type": "execute_result"
    }
   ],
   "source": [
    "b = np.expand_dims(a, axis=1)\n",
    "b.shape"
   ]
  },
  {
   "cell_type": "markdown",
   "id": "2ea44417",
   "metadata": {},
   "source": [
    "You can add an axis at index position 0 with:"
   ]
  },
  {
   "cell_type": "code",
   "execution_count": 33,
   "id": "7c28b061",
   "metadata": {},
   "outputs": [
    {
     "data": {
      "text/plain": [
       "(1, 6)"
      ]
     },
     "execution_count": 33,
     "metadata": {},
     "output_type": "execute_result"
    }
   ],
   "source": [
    "c = np.expand_dims(a, axis=0)\n",
    "c.shape"
   ]
  },
  {
   "cell_type": "markdown",
   "id": "5fa4c2bc",
   "metadata": {},
   "source": [
    "### Indexing and slicing\n",
    "\n",
    "You can index and slice NumPy arrays in the same ways you can slice Python lists."
   ]
  },
  {
   "cell_type": "code",
   "execution_count": 34,
   "id": "3517ee7c",
   "metadata": {},
   "outputs": [],
   "source": [
    "data = np.array([1, 2, 3])"
   ]
  },
  {
   "cell_type": "code",
   "execution_count": 35,
   "id": "621e7df7",
   "metadata": {},
   "outputs": [
    {
     "data": {
      "text/plain": [
       "2"
      ]
     },
     "execution_count": 35,
     "metadata": {},
     "output_type": "execute_result"
    }
   ],
   "source": [
    "data[1]"
   ]
  },
  {
   "cell_type": "code",
   "execution_count": 36,
   "id": "56f3d852",
   "metadata": {},
   "outputs": [
    {
     "data": {
      "text/plain": [
       "array([1, 2])"
      ]
     },
     "execution_count": 36,
     "metadata": {},
     "output_type": "execute_result"
    }
   ],
   "source": [
    "data[0:2]"
   ]
  },
  {
   "cell_type": "code",
   "execution_count": 37,
   "id": "3cc4a6cb",
   "metadata": {},
   "outputs": [
    {
     "data": {
      "text/plain": [
       "array([2, 3])"
      ]
     },
     "execution_count": 37,
     "metadata": {},
     "output_type": "execute_result"
    }
   ],
   "source": [
    "data[1:]"
   ]
  },
  {
   "cell_type": "code",
   "execution_count": 38,
   "id": "c50abb9b",
   "metadata": {},
   "outputs": [
    {
     "data": {
      "text/plain": [
       "array([2, 3])"
      ]
     },
     "execution_count": 38,
     "metadata": {},
     "output_type": "execute_result"
    }
   ],
   "source": [
    "data[-2:]"
   ]
  },
  {
   "cell_type": "markdown",
   "id": "9c3634a7",
   "metadata": {},
   "source": [
    "You may want to take a section of your array or specific array elements to use in further analysis or additional operations. To do that, you’ll need to subset, slice, and/or index your arrays.\n",
    "\n",
    "If you want to select values from your array that fulfill certain conditions, it’s straightforward with NumPy.\n",
    "\n",
    "For example, if you start with this array:"
   ]
  },
  {
   "cell_type": "code",
   "execution_count": 39,
   "id": "d4c8a807",
   "metadata": {},
   "outputs": [],
   "source": [
    "a = np.array([[1 , 2, 3, 4], [5, 6, 7, 8], [9, 10, 11, 12]])"
   ]
  },
  {
   "cell_type": "markdown",
   "id": "08ca9622",
   "metadata": {},
   "source": [
    "You can easily print all of the values in the array that are less than 5."
   ]
  },
  {
   "cell_type": "code",
   "execution_count": 40,
   "id": "463d1f28",
   "metadata": {},
   "outputs": [
    {
     "data": {
      "text/plain": [
       "array([1, 2, 3, 4])"
      ]
     },
     "execution_count": 40,
     "metadata": {},
     "output_type": "execute_result"
    }
   ],
   "source": [
    "a[a < 5]"
   ]
  },
  {
   "cell_type": "markdown",
   "id": "3e8401e0",
   "metadata": {},
   "source": [
    "You can also select, for example, numbers that are equal to or greater than 5, and use that condition to index an array."
   ]
  },
  {
   "cell_type": "code",
   "execution_count": 41,
   "id": "54652df1",
   "metadata": {},
   "outputs": [
    {
     "data": {
      "text/plain": [
       "array([ 5,  6,  7,  8,  9, 10, 11, 12])"
      ]
     },
     "execution_count": 41,
     "metadata": {},
     "output_type": "execute_result"
    }
   ],
   "source": [
    "five_up = (a >= 5)\n",
    "a[five_up]"
   ]
  },
  {
   "cell_type": "markdown",
   "id": "28299562",
   "metadata": {},
   "source": [
    "You can select elements that are divisible by 2:"
   ]
  },
  {
   "cell_type": "code",
   "execution_count": 42,
   "id": "a1583247",
   "metadata": {},
   "outputs": [
    {
     "data": {
      "text/plain": [
       "array([ 2,  4,  6,  8, 10, 12])"
      ]
     },
     "execution_count": 42,
     "metadata": {},
     "output_type": "execute_result"
    }
   ],
   "source": [
    "divisible_by_2 = a[a%2==0]\n",
    "divisible_by_2"
   ]
  },
  {
   "cell_type": "markdown",
   "id": "7e90f5e7",
   "metadata": {},
   "source": [
    "Or you can select elements that satisfy two conditions using the `&` and `|` operators:"
   ]
  },
  {
   "cell_type": "code",
   "execution_count": 43,
   "id": "9d147345",
   "metadata": {},
   "outputs": [
    {
     "data": {
      "text/plain": [
       "array([ 3,  4,  5,  6,  7,  8,  9, 10])"
      ]
     },
     "execution_count": 43,
     "metadata": {},
     "output_type": "execute_result"
    }
   ],
   "source": [
    "c = a[(a > 2) & (a < 11)]\n",
    "c"
   ]
  },
  {
   "cell_type": "markdown",
   "id": "5d824b17",
   "metadata": {},
   "source": [
    "You can also make use of the logical operators `&` and `|` in order to return boolean values that specify whether or not the values in an array fulfill a certain condition. This can be useful with arrays that contain names or other categorical values."
   ]
  },
  {
   "cell_type": "code",
   "execution_count": 44,
   "id": "90a87d1a",
   "metadata": {},
   "outputs": [
    {
     "data": {
      "text/plain": [
       "array([[False, False, False, False],\n",
       "       [ True,  True,  True,  True],\n",
       "       [ True,  True,  True,  True]])"
      ]
     },
     "execution_count": 44,
     "metadata": {},
     "output_type": "execute_result"
    }
   ],
   "source": [
    "five_up = (a > 5) | (a == 5)\n",
    "five_up"
   ]
  },
  {
   "cell_type": "markdown",
   "id": "25b0ff7a",
   "metadata": {},
   "source": [
    "You can also use `np.nonzero()` to select elements or indices from an array.\n",
    "\n",
    "Starting with this array:"
   ]
  },
  {
   "cell_type": "code",
   "execution_count": 45,
   "id": "3c68d101",
   "metadata": {},
   "outputs": [],
   "source": [
    "a = np.array([[1, 2, 3, 4], [5, 6, 7, 8], [9, 10, 11, 12]])"
   ]
  },
  {
   "cell_type": "markdown",
   "id": "a67f068f",
   "metadata": {},
   "source": [
    "You can use `np.nonzero()` to print the indices of elements that are, for example, less than 5:"
   ]
  },
  {
   "cell_type": "code",
   "execution_count": 46,
   "id": "2789a298",
   "metadata": {},
   "outputs": [
    {
     "data": {
      "text/plain": [
       "(array([0, 0, 0, 0]), array([0, 1, 2, 3]))"
      ]
     },
     "execution_count": 46,
     "metadata": {},
     "output_type": "execute_result"
    }
   ],
   "source": [
    "b = np.nonzero(a < 5)\n",
    "b"
   ]
  },
  {
   "cell_type": "markdown",
   "id": "2aa1f410",
   "metadata": {},
   "source": [
    "In this example, a tuple of arrays was returned: one for each dimension. The first array represents the row indices where these values are found, and the second array represents the column indices where the values are found.\n",
    "\n",
    "If you want to generate a list of coordinates where the elements exist, you can zip the arrays, iterate over the list of coordinates, and print them. For example:"
   ]
  },
  {
   "cell_type": "code",
   "execution_count": 47,
   "id": "91f0c085",
   "metadata": {},
   "outputs": [
    {
     "name": "stdout",
     "output_type": "stream",
     "text": [
      "(0, 0)\n",
      "(0, 1)\n",
      "(0, 2)\n",
      "(0, 3)\n"
     ]
    }
   ],
   "source": [
    "list_of_coordinates= list(zip(b[0], b[1]))\n",
    "for coord in list_of_coordinates:\n",
    "    print(coord)"
   ]
  },
  {
   "cell_type": "markdown",
   "id": "3fa2521e",
   "metadata": {},
   "source": [
    "You can also use `np.nonzero()` to print the elements in an array that are less than 5 with:"
   ]
  },
  {
   "cell_type": "code",
   "execution_count": 48,
   "id": "4a4736d2",
   "metadata": {},
   "outputs": [
    {
     "data": {
      "text/plain": [
       "array([1, 2, 3, 4])"
      ]
     },
     "execution_count": 48,
     "metadata": {},
     "output_type": "execute_result"
    }
   ],
   "source": [
    "a[b]"
   ]
  },
  {
   "cell_type": "markdown",
   "id": "a7942864",
   "metadata": {},
   "source": [
    "If the element you’re looking for doesn’t exist in the array, then the returned array of indices will be empty. For example:"
   ]
  },
  {
   "cell_type": "code",
   "execution_count": 49,
   "id": "a5e2285f",
   "metadata": {},
   "outputs": [
    {
     "data": {
      "text/plain": [
       "(array([], dtype=int64), array([], dtype=int64))"
      ]
     },
     "execution_count": 49,
     "metadata": {},
     "output_type": "execute_result"
    }
   ],
   "source": [
    "not_there = np.nonzero(a == 42)\n",
    "not_there"
   ]
  },
  {
   "cell_type": "markdown",
   "id": "d2c1e11f",
   "metadata": {},
   "source": [
    "### Create an array from existing data\n",
    "\n",
    "You can easily create a new array from a section of an existing array.\n",
    "\n",
    "Let’s say you have this array:"
   ]
  },
  {
   "cell_type": "code",
   "execution_count": 50,
   "id": "dff5b2d7",
   "metadata": {},
   "outputs": [],
   "source": [
    "a = np.array([1,  2,  3,  4,  5,  6,  7,  8,  9, 10])"
   ]
  },
  {
   "cell_type": "markdown",
   "id": "a862e941",
   "metadata": {},
   "source": [
    "You can create a new array from a section of your array any time by specifying where you want to slice your array."
   ]
  },
  {
   "cell_type": "code",
   "execution_count": 51,
   "id": "cb8b047e",
   "metadata": {},
   "outputs": [
    {
     "data": {
      "text/plain": [
       "array([4, 5, 6, 7, 8])"
      ]
     },
     "execution_count": 51,
     "metadata": {},
     "output_type": "execute_result"
    }
   ],
   "source": [
    "arr1 = a[3:8]\n",
    "arr1"
   ]
  },
  {
   "cell_type": "markdown",
   "id": "53c70109",
   "metadata": {},
   "source": [
    "Here, you grabbed a section of your array from index position 3 through index position 8.\n",
    "\n",
    "You can also stack two existing arrays, both vertically and horizontally. Let’s say you have two arrays, `a1` and `a2`:"
   ]
  },
  {
   "cell_type": "code",
   "execution_count": 52,
   "id": "7e502cc5",
   "metadata": {},
   "outputs": [],
   "source": [
    "a1 = np.array([[1, 1],\n",
    "               [2, 2]])\n",
    "a2 = np.array([[3, 3],\n",
    "               [4, 4]])"
   ]
  },
  {
   "cell_type": "markdown",
   "id": "d67ba0e3",
   "metadata": {},
   "source": [
    "You can stack them vertically with `vstack`:"
   ]
  },
  {
   "cell_type": "code",
   "execution_count": 53,
   "id": "68226cd0",
   "metadata": {},
   "outputs": [
    {
     "data": {
      "text/plain": [
       "array([[1, 1],\n",
       "       [2, 2],\n",
       "       [3, 3],\n",
       "       [4, 4]])"
      ]
     },
     "execution_count": 53,
     "metadata": {},
     "output_type": "execute_result"
    }
   ],
   "source": [
    "np.vstack((a1, a2))"
   ]
  },
  {
   "cell_type": "markdown",
   "id": "217ee599",
   "metadata": {},
   "source": [
    "Or stack them horizontally with hstack:"
   ]
  },
  {
   "cell_type": "code",
   "execution_count": 54,
   "id": "e205a6a6",
   "metadata": {},
   "outputs": [
    {
     "data": {
      "text/plain": [
       "array([[1, 1, 3, 3],\n",
       "       [2, 2, 4, 4]])"
      ]
     },
     "execution_count": 54,
     "metadata": {},
     "output_type": "execute_result"
    }
   ],
   "source": [
    "np.hstack((a1, a2))"
   ]
  },
  {
   "cell_type": "markdown",
   "id": "2b3e1bae",
   "metadata": {},
   "source": [
    "You can split an array into several smaller arrays using `hsplit`. You can specify either the number of equally shaped arrays to return or the columns after which the division should occur.\n",
    "\n",
    "Let’s say you have this array:"
   ]
  },
  {
   "cell_type": "code",
   "execution_count": 55,
   "id": "011c1f16",
   "metadata": {},
   "outputs": [
    {
     "data": {
      "text/plain": [
       "array([[ 1,  2,  3,  4,  5,  6,  7,  8,  9, 10, 11, 12],\n",
       "       [13, 14, 15, 16, 17, 18, 19, 20, 21, 22, 23, 24]])"
      ]
     },
     "execution_count": 55,
     "metadata": {},
     "output_type": "execute_result"
    }
   ],
   "source": [
    "x = np.arange(1, 25).reshape(2, 12)\n",
    "x"
   ]
  },
  {
   "cell_type": "markdown",
   "id": "07ec648f",
   "metadata": {},
   "source": [
    "If you wanted to split this array into three equally shaped arrays, you would run:"
   ]
  },
  {
   "cell_type": "code",
   "execution_count": 56,
   "id": "e39da2ae",
   "metadata": {},
   "outputs": [
    {
     "data": {
      "text/plain": [
       "[array([[ 1,  2,  3,  4],\n",
       "        [13, 14, 15, 16]]),\n",
       " array([[ 5,  6,  7,  8],\n",
       "        [17, 18, 19, 20]]),\n",
       " array([[ 9, 10, 11, 12],\n",
       "        [21, 22, 23, 24]])]"
      ]
     },
     "execution_count": 56,
     "metadata": {},
     "output_type": "execute_result"
    }
   ],
   "source": [
    "np.hsplit(x, 3)"
   ]
  },
  {
   "cell_type": "markdown",
   "id": "8f5ab5b3",
   "metadata": {},
   "source": [
    "If you wanted to split your array after the third and fourth column, you’d run:"
   ]
  },
  {
   "cell_type": "code",
   "execution_count": 57,
   "id": "ff280caa",
   "metadata": {},
   "outputs": [
    {
     "data": {
      "text/plain": [
       "[array([[ 1,  2,  3],\n",
       "        [13, 14, 15]]),\n",
       " array([[ 4],\n",
       "        [16]]),\n",
       " array([[ 5,  6,  7,  8,  9, 10, 11, 12],\n",
       "        [17, 18, 19, 20, 21, 22, 23, 24]])]"
      ]
     },
     "execution_count": 57,
     "metadata": {},
     "output_type": "execute_result"
    }
   ],
   "source": [
    "np.hsplit(x, (3, 4))"
   ]
  },
  {
   "cell_type": "markdown",
   "id": "3a9e0c61",
   "metadata": {},
   "source": [
    "You can use the `view` method to create a new array object that looks at the same data as the original array (a shallow copy).\n",
    "\n",
    "Views are an important NumPy concept! NumPy functions, as well as operations like indexing and slicing, will return views whenever possible. This saves memory and is faster (no copy of the data has to be made). However it’s important to be aware of this - modifying data in a view also modifies the original array!\n",
    "\n",
    "Let’s say you create this array:"
   ]
  },
  {
   "cell_type": "code",
   "execution_count": 58,
   "id": "816b4691",
   "metadata": {},
   "outputs": [],
   "source": [
    "a = np.array([[1, 2, 3, 4], [5, 6, 7, 8], [9, 10, 11, 12]])"
   ]
  },
  {
   "cell_type": "markdown",
   "id": "c843b37d",
   "metadata": {},
   "source": [
    "Now we create an array `b1` by slicing `a` and modify the first element of `b1`. This will modify the corresponding element in `a` as well!"
   ]
  },
  {
   "cell_type": "code",
   "execution_count": 59,
   "id": "89c08fac",
   "metadata": {},
   "outputs": [
    {
     "data": {
      "text/plain": [
       "array([1, 2, 3, 4])"
      ]
     },
     "execution_count": 59,
     "metadata": {},
     "output_type": "execute_result"
    }
   ],
   "source": [
    "b1 = a[0, :]\n",
    "b1"
   ]
  },
  {
   "cell_type": "code",
   "execution_count": 60,
   "id": "93ef9335",
   "metadata": {},
   "outputs": [
    {
     "data": {
      "text/plain": [
       "array([99,  2,  3,  4])"
      ]
     },
     "execution_count": 60,
     "metadata": {},
     "output_type": "execute_result"
    }
   ],
   "source": [
    "b1[0] = 99\n",
    "b1"
   ]
  },
  {
   "cell_type": "code",
   "execution_count": 61,
   "id": "beccb253",
   "metadata": {},
   "outputs": [
    {
     "data": {
      "text/plain": [
       "array([[99,  2,  3,  4],\n",
       "       [ 5,  6,  7,  8],\n",
       "       [ 9, 10, 11, 12]])"
      ]
     },
     "execution_count": 61,
     "metadata": {},
     "output_type": "execute_result"
    }
   ],
   "source": [
    "a"
   ]
  },
  {
   "cell_type": "markdown",
   "id": "3f1549e8",
   "metadata": {},
   "source": [
    "Using the `copy` method will make a complete copy of the array and its data (a deep copy). To use this on your array, you could run:"
   ]
  },
  {
   "cell_type": "code",
   "execution_count": 62,
   "id": "6a1e374d",
   "metadata": {},
   "outputs": [],
   "source": [
    "b2 = a.copy()"
   ]
  },
  {
   "cell_type": "markdown",
   "id": "0656505c",
   "metadata": {},
   "source": [
    "## Array operations\n",
    "\n",
    "### Basic array operations\n",
    "\n",
    "Once you’ve created your arrays, you can start to work with them. Let’s say, for example, that you’ve created two arrays, one called `data` and one called `ones`."
   ]
  },
  {
   "cell_type": "code",
   "execution_count": 63,
   "id": "288ac663",
   "metadata": {},
   "outputs": [],
   "source": [
    "data = np.array([1, 2])\n",
    "ones = np.ones(2, dtype=int)"
   ]
  },
  {
   "cell_type": "markdown",
   "id": "d5936391",
   "metadata": {},
   "source": [
    "You can add the arrays together with the plus sign."
   ]
  },
  {
   "cell_type": "code",
   "execution_count": 64,
   "id": "e61349ee",
   "metadata": {},
   "outputs": [
    {
     "data": {
      "text/plain": [
       "array([2, 3])"
      ]
     },
     "execution_count": 64,
     "metadata": {},
     "output_type": "execute_result"
    }
   ],
   "source": [
    "data + ones"
   ]
  },
  {
   "cell_type": "markdown",
   "id": "6c832603",
   "metadata": {},
   "source": [
    "You can, of course, do more than just addition!"
   ]
  },
  {
   "cell_type": "code",
   "execution_count": 65,
   "id": "9d6630e8",
   "metadata": {},
   "outputs": [
    {
     "name": "stdout",
     "output_type": "stream",
     "text": [
      "[0 1]\n",
      "[1 4]\n",
      "[1. 1.]\n"
     ]
    }
   ],
   "source": [
    "print(data - ones)\n",
    "print(data * data)\n",
    "print(data / data)"
   ]
  },
  {
   "cell_type": "markdown",
   "id": "ac2b2c1c",
   "metadata": {},
   "source": [
    "Basic operations are simple with NumPy. If you want to find the sum of the elements in an array, you’d use `sum()`. This works for 1D arrays, 2D arrays, and arrays in higher dimensions."
   ]
  },
  {
   "cell_type": "code",
   "execution_count": 66,
   "id": "94b6be79",
   "metadata": {},
   "outputs": [
    {
     "data": {
      "text/plain": [
       "10"
      ]
     },
     "execution_count": 66,
     "metadata": {},
     "output_type": "execute_result"
    }
   ],
   "source": [
    "a = np.array([1, 2, 3, 4])\n",
    "a.sum()"
   ]
  },
  {
   "cell_type": "markdown",
   "id": "6c1e4559",
   "metadata": {},
   "source": [
    "To add the rows or the columns in a 2D array, you would specify the axis.\n",
    "\n",
    "If you start with this array:"
   ]
  },
  {
   "cell_type": "code",
   "execution_count": 67,
   "id": "849f9037",
   "metadata": {},
   "outputs": [],
   "source": [
    "b = np.array([[1, 1], [2, 2]])"
   ]
  },
  {
   "cell_type": "markdown",
   "id": "7baeeca3",
   "metadata": {},
   "source": [
    "You can sum over the axis of rows with:"
   ]
  },
  {
   "cell_type": "code",
   "execution_count": 68,
   "id": "7210ee1d",
   "metadata": {},
   "outputs": [
    {
     "data": {
      "text/plain": [
       "array([3, 3])"
      ]
     },
     "execution_count": 68,
     "metadata": {},
     "output_type": "execute_result"
    }
   ],
   "source": [
    "b.sum(axis=0)"
   ]
  },
  {
   "cell_type": "markdown",
   "id": "40e9c089",
   "metadata": {},
   "source": [
    "You can sum over the axis of columns with:"
   ]
  },
  {
   "cell_type": "code",
   "execution_count": 69,
   "id": "ead4c453",
   "metadata": {},
   "outputs": [
    {
     "data": {
      "text/plain": [
       "array([2, 4])"
      ]
     },
     "execution_count": 69,
     "metadata": {},
     "output_type": "execute_result"
    }
   ],
   "source": [
    "b.sum(axis=1)"
   ]
  },
  {
   "cell_type": "markdown",
   "id": "edc4f935",
   "metadata": {},
   "source": [
    "### Computation on arrays: broadcasting\n",
    "\n",
    "There are times when you might want to carry out an operation between an array and a single number (also called an operation between a vector and a scalar) or between arrays of two different sizes. For example, your array (we’ll call it “data”) might contain information about distance in miles but you want to convert the information to kilometers. You can perform this operation with:"
   ]
  },
  {
   "cell_type": "code",
   "execution_count": 70,
   "id": "01a255ea",
   "metadata": {},
   "outputs": [
    {
     "data": {
      "text/plain": [
       "array([1.6, 3.2])"
      ]
     },
     "execution_count": 70,
     "metadata": {},
     "output_type": "execute_result"
    }
   ],
   "source": [
    "data = np.array([1.0, 2.0])\n",
    "data * 1.6"
   ]
  },
  {
   "cell_type": "markdown",
   "id": "0cd8ae71",
   "metadata": {},
   "source": [
    "NumPy understands that the multiplication should happen with each cell. That concept is called broadcasting. Broadcasting is a mechanism that allows NumPy to perform operations on arrays of different shapes. The dimensions of your array must be compatible, for example, when the dimensions of both arrays are equal or when one of them is 1. If the dimensions are not compatible, you will get a ValueError.\n",
    "\n",
    "### Aggregations: min, max and everything in between\n",
    "\n",
    "NumPy also performs aggregation functions. In addition to `min`, `max`, and `sum`, you can easily run `mean` to get the average, `prod` to get the result of multiplying the elements together, `std` to get the standard deviation, and more."
   ]
  },
  {
   "cell_type": "code",
   "execution_count": 71,
   "id": "9a42e05a",
   "metadata": {},
   "outputs": [
    {
     "data": {
      "text/plain": [
       "2.0"
      ]
     },
     "execution_count": 71,
     "metadata": {},
     "output_type": "execute_result"
    }
   ],
   "source": [
    "data.max()"
   ]
  },
  {
   "cell_type": "code",
   "execution_count": 72,
   "id": "6cde45e2",
   "metadata": {},
   "outputs": [
    {
     "data": {
      "text/plain": [
       "1.0"
      ]
     },
     "execution_count": 72,
     "metadata": {},
     "output_type": "execute_result"
    }
   ],
   "source": [
    "data.min()"
   ]
  },
  {
   "cell_type": "code",
   "execution_count": 73,
   "id": "4552a10b",
   "metadata": {},
   "outputs": [
    {
     "data": {
      "text/plain": [
       "3.0"
      ]
     },
     "execution_count": 73,
     "metadata": {},
     "output_type": "execute_result"
    }
   ],
   "source": [
    "data.sum()"
   ]
  },
  {
   "cell_type": "markdown",
   "id": "53a74968",
   "metadata": {},
   "source": [
    "Let’s start with this array, called “a”."
   ]
  },
  {
   "cell_type": "code",
   "execution_count": 74,
   "id": "c62e9446",
   "metadata": {},
   "outputs": [],
   "source": [
    "a = np.array([[0.45053314, 0.17296777, 0.34376245, 0.5510652],\n",
    "              [0.54627315, 0.05093587, 0.40067661, 0.55645993],\n",
    "              [0.12697628, 0.82485143, 0.26590556, 0.56917101]])"
   ]
  },
  {
   "cell_type": "markdown",
   "id": "d0c4452f",
   "metadata": {},
   "source": [
    "It’s very common to want to aggregate along a row or column. By default, every NumPy aggregation function will return the aggregate of the entire array. To find the sum or the minimum of the elements in your array, run:"
   ]
  },
  {
   "cell_type": "code",
   "execution_count": 75,
   "id": "e4464a94",
   "metadata": {},
   "outputs": [
    {
     "data": {
      "text/plain": [
       "4.8595784"
      ]
     },
     "execution_count": 75,
     "metadata": {},
     "output_type": "execute_result"
    }
   ],
   "source": [
    "a.sum()"
   ]
  },
  {
   "cell_type": "markdown",
   "id": "55d90b99",
   "metadata": {},
   "source": [
    "Or:"
   ]
  },
  {
   "cell_type": "code",
   "execution_count": 76,
   "id": "c1e7e084",
   "metadata": {},
   "outputs": [
    {
     "data": {
      "text/plain": [
       "0.05093587"
      ]
     },
     "execution_count": 76,
     "metadata": {},
     "output_type": "execute_result"
    }
   ],
   "source": [
    "a.min()"
   ]
  },
  {
   "cell_type": "markdown",
   "id": "0d0ecd49",
   "metadata": {},
   "source": [
    "You can specify on which axis you want the aggregation function to be computed. For example, you can find the minimum value within each column by specifying `axis=0`."
   ]
  },
  {
   "cell_type": "code",
   "execution_count": 77,
   "id": "e490b9e5",
   "metadata": {},
   "outputs": [
    {
     "data": {
      "text/plain": [
       "array([0.12697628, 0.05093587, 0.26590556, 0.5510652 ])"
      ]
     },
     "execution_count": 77,
     "metadata": {},
     "output_type": "execute_result"
    }
   ],
   "source": [
    "a.min(axis=0)"
   ]
  },
  {
   "cell_type": "markdown",
   "id": "a07d7d64",
   "metadata": {},
   "source": [
    "The four values listed above correspond to the number of columns in your array. With a four-column array, you will get four values as your result.\n",
    "\n",
    "## Indexing on ndarrays\n",
    "\n",
    "ndarrays can be indexed using the standard Python `x[obj]` syntax, where `x` is the array and `obj` the selection. There are different kinds of indexing available depending on `obj`: basic indexing, advanced indexing and field access.\n",
    "\n",
    "```{note}\n",
    "In Python, `x[(exp1, exp2, ..., expN)]` is equivalent to `x[exp1, exp2, ..., expN]`; the latter is just syntactic sugar for the former.\n",
    "```\n",
    "\n",
    "### Basic indexing\n",
    "\n",
    "#### Single element indexing\n",
    "\n",
    "Single element indexing works exactly like that for other standard Python sequences. It is 0-based, and accepts negative indices for indexing from the end of the array."
   ]
  },
  {
   "cell_type": "code",
   "execution_count": 78,
   "id": "2d7c3c46",
   "metadata": {},
   "outputs": [],
   "source": [
    "x = np.arange(10)"
   ]
  },
  {
   "cell_type": "code",
   "execution_count": 79,
   "id": "e5cfff87",
   "metadata": {},
   "outputs": [
    {
     "data": {
      "text/plain": [
       "2"
      ]
     },
     "execution_count": 79,
     "metadata": {},
     "output_type": "execute_result"
    }
   ],
   "source": [
    "x[2]"
   ]
  },
  {
   "cell_type": "code",
   "execution_count": 80,
   "id": "faf2d57d",
   "metadata": {},
   "outputs": [
    {
     "data": {
      "text/plain": [
       "8"
      ]
     },
     "execution_count": 80,
     "metadata": {},
     "output_type": "execute_result"
    }
   ],
   "source": [
    "x[-2]"
   ]
  },
  {
   "cell_type": "markdown",
   "id": "f78a7701",
   "metadata": {},
   "source": [
    "It is not necessary to separate each dimension’s index into its own set of square brackets."
   ]
  },
  {
   "cell_type": "code",
   "execution_count": 81,
   "id": "1caccb16",
   "metadata": {},
   "outputs": [],
   "source": [
    "x.shape = (2, 5)  # now x is 2-dimensional"
   ]
  },
  {
   "cell_type": "code",
   "execution_count": 82,
   "id": "e739a152",
   "metadata": {},
   "outputs": [
    {
     "data": {
      "text/plain": [
       "8"
      ]
     },
     "execution_count": 82,
     "metadata": {},
     "output_type": "execute_result"
    }
   ],
   "source": [
    "x[1, 3]"
   ]
  },
  {
   "cell_type": "code",
   "execution_count": 83,
   "id": "dccdfb90",
   "metadata": {},
   "outputs": [
    {
     "data": {
      "text/plain": [
       "9"
      ]
     },
     "execution_count": 83,
     "metadata": {},
     "output_type": "execute_result"
    }
   ],
   "source": [
    "x[1, -1]"
   ]
  },
  {
   "cell_type": "markdown",
   "id": "71a53e54",
   "metadata": {},
   "source": [
    "Note that If one indexes a multidimensional array with fewer indices than dimensions, one gets a subdimensional array. For example:"
   ]
  },
  {
   "cell_type": "code",
   "execution_count": 84,
   "id": "ea209a71",
   "metadata": {},
   "outputs": [
    {
     "data": {
      "text/plain": [
       "array([0, 1, 2, 3, 4])"
      ]
     },
     "execution_count": 84,
     "metadata": {},
     "output_type": "execute_result"
    }
   ],
   "source": [
    "x[0]"
   ]
  },
  {
   "cell_type": "markdown",
   "id": "cca0f8e6",
   "metadata": {},
   "source": [
    "That is, each index specified selects the array corresponding to the rest of the dimensions selected. In the above example, choosing 0 means that the remaining dimension of length 5 is being left unspecified, and that what is returned is an array of that dimensionality and size. It must be noted that the returned array is a view, i.e., it is not a copy of the original, but points to the same values in memory as does the original array. In this case, the 1-D array at the first position (0) is returned. So using a single index on the returned array, results in a single element being returned. That is:"
   ]
  },
  {
   "cell_type": "code",
   "execution_count": 85,
   "id": "2867b1ed",
   "metadata": {},
   "outputs": [
    {
     "data": {
      "text/plain": [
       "2"
      ]
     },
     "execution_count": 85,
     "metadata": {},
     "output_type": "execute_result"
    }
   ],
   "source": [
    "x[0][2]"
   ]
  },
  {
   "cell_type": "markdown",
   "id": "be6e0fbb",
   "metadata": {},
   "source": [
    "So note that `x[0, 2] == x[0][2]` though the second case is more inefficient as a new temporary array is created after the first index that is subsequently indexed by 2.\n",
    "\n",
    "```{note}\n",
    "NumPy uses *C-order* indexing. That means that the last index usually represents the most rapidly changing memory location, unlike *Fortran* or *IDL*, where the first index represents the most rapidly changing location in memory. This difference represents a great potential for confusion.\n",
    "```\n",
    "\n",
    "#### Slicing and striding\n",
    "\n",
    "Basic slicing extends Python’s basic concept of slicing to N dimensions. Basic slicing occurs when obj is a `slice` object (constructed by `start:stop:step` notation inside of brackets), an integer, or a tuple of slice objects and integers. `Ellipsis` and `newaxis` objects can be interspersed with these as well.\n",
    "\n",
    "The simplest case of indexing with *N* integers returns an array scalar representing the corresponding item. As in Python, all indices are zero-based: for the i-th index , the valid range is $0 \\leq n_i \\leq d_i$  where $d_i$ is the *i*-th element of the shape of the array. Negative indices are interpreted as counting from the end of the array (i.e., if , it $n_i < 0$, it means $n_i + d_i$).\n",
    "\n",
    "All arrays generated by basic slicing are always **views** of the original array.\n",
    "\n",
    "```{note}\n",
    "NumPy slicing creates a **view** instead of a **copy** as in the case of built-in Python sequences such as string, tuple and list. Care must be taken when extracting a small portion from a large array which becomes useless after the extraction, because the small portion extracted contains a reference to the large original array whose memory will not be released until all arrays derived from it are garbage-collected. In such cases an explicit `copy()` is recommended.\n",
    "```\n",
    "\n",
    "- The basic slice syntax is `i:j:k` where *i* is the starting index, *j* is the stopping index, and *k* is the step ($k /neq 0$). This selects the m elements (in the corresponding dimension) with index values *i*, *i + k*, *…*,* i + (m - 1) k* where $m = q + (r /neq 0)$ and *q* and *r* are the quotient and remainder obtained by dividing *j - i* by *k*: *j - i = q k + r*, so that *i + (m - 1) k < j*. For example:"
   ]
  },
  {
   "cell_type": "code",
   "execution_count": 86,
   "id": "ea3876db",
   "metadata": {},
   "outputs": [
    {
     "data": {
      "text/plain": [
       "array([1, 3, 5])"
      ]
     },
     "execution_count": 86,
     "metadata": {},
     "output_type": "execute_result"
    }
   ],
   "source": [
    "x = np.array([0, 1, 2, 3, 4, 5, 6, 7, 8, 9])\n",
    "x[1:7:2]"
   ]
  },
  {
   "cell_type": "markdown",
   "id": "8a3cf0bc",
   "metadata": {},
   "source": [
    "- Negative *i* and *j* are interpreted as *n + i* and *n + j* where *n* is the number of elements in the corresponding dimension. Negative *k* makes stepping go towards smaller indices. From the above example:"
   ]
  },
  {
   "cell_type": "code",
   "execution_count": 87,
   "id": "98ee69db",
   "metadata": {},
   "outputs": [
    {
     "data": {
      "text/plain": [
       "array([8, 9])"
      ]
     },
     "execution_count": 87,
     "metadata": {},
     "output_type": "execute_result"
    }
   ],
   "source": [
    "x[-2:10]"
   ]
  },
  {
   "cell_type": "code",
   "execution_count": 88,
   "id": "62570294",
   "metadata": {},
   "outputs": [
    {
     "data": {
      "text/plain": [
       "array([7, 6, 5, 4])"
      ]
     },
     "execution_count": 88,
     "metadata": {},
     "output_type": "execute_result"
    }
   ],
   "source": [
    "x[-3:3:-1]"
   ]
  },
  {
   "cell_type": "markdown",
   "id": "fbf3a316",
   "metadata": {},
   "source": [
    "- Assume *n* is the number of elements in the dimension being sliced. Then, if *i* is not given it defaults to 0 for *k > 0* and *n - 1* for *k < 0*. If *j* is not given it defaults to *n* for *k > 0* and *-n-1* for *k < 0*. If *k* is not given it defaults to 1. Note that `::` is the same as : and means select all indices along this axis. From the above example:"
   ]
  },
  {
   "cell_type": "code",
   "execution_count": 89,
   "id": "2ddd4355",
   "metadata": {},
   "outputs": [
    {
     "data": {
      "text/plain": [
       "array([5, 6, 7, 8, 9])"
      ]
     },
     "execution_count": 89,
     "metadata": {},
     "output_type": "execute_result"
    }
   ],
   "source": [
    "x[5:]"
   ]
  },
  {
   "cell_type": "markdown",
   "id": "6fd608b8",
   "metadata": {},
   "source": [
    "- If the number of objects in the selection tuple is less than N, then `:` is assumed for any subsequent dimensions. For example:"
   ]
  },
  {
   "cell_type": "code",
   "execution_count": 90,
   "id": "faac21a8",
   "metadata": {},
   "outputs": [
    {
     "data": {
      "text/plain": [
       "(2, 3, 1)"
      ]
     },
     "execution_count": 90,
     "metadata": {},
     "output_type": "execute_result"
    }
   ],
   "source": [
    "x = np.array([[[1],[2],[3]], [[4],[5],[6]]])\n",
    "x.shape"
   ]
  },
  {
   "cell_type": "code",
   "execution_count": 91,
   "id": "0a29ec75",
   "metadata": {},
   "outputs": [
    {
     "data": {
      "text/plain": [
       "array([[[4],\n",
       "        [5],\n",
       "        [6]]])"
      ]
     },
     "execution_count": 91,
     "metadata": {},
     "output_type": "execute_result"
    }
   ],
   "source": [
    "x[1:2]"
   ]
  },
  {
   "cell_type": "markdown",
   "id": "fab6a268",
   "metadata": {},
   "source": [
    "- An integer, *i*, returns the same values as `i:i+1` **except** the dimensionality of the returned object is reduced by 1. In particular, a selection tuple with the *p*-th element an integer (and all other entries *:*) returns the corresponding sub-array with dimension *N - 1*. If *N = 1* then the returned object is an array scalar. \n",
    "\n",
    "- If the selection tuple has all entries : except the p-th entry which is a slice object `i:j:k`, then the returned array has dimension *N* formed by concatenating the sub-arrays returned by integer indexing of elements *i*, *i+k*, *…*, *i + (m - 1) k < j*,\n",
    "\n",
    "- Basic slicing with more than one non-`:` entry in the slicing tuple, acts like repeated application of slicing using a single non-`:` entry, where the non-`:` entries are successively taken (with all other non-`:` entries replaced by `:`). Thus, `x[ind1, ..., ind2,:]` acts like `x[ind1][..., ind2, :]` under basic slicing.\n",
    "\n",
    "**WARNING:** The The above is **not** true for advanced indexing.\n",
    "\n",
    "- You may use slicing to set values in the array, but (unlike lists) you can never grow the array. The size of the value to be set in `x[obj] = value` must be (broadcastable) to the same shape as `x[obj]`.\n",
    "\n",
    "- A slicing tuple can always be constructed as obj and used in the `x[obj]` notation. Slice objects can be used in the construction in place of the `[start:stop:step]` notation. For example, `x[1:10:5, ::-1]` can also be implemented as `obj = (slice(1, 10, 5), slice(None, None, -1))`; `x[obj]` . This can be useful for constructing generic code that works on arrays of arbitrary dimensions.\n",
    "\n",
    "#### Dimensional indexing tools\n",
    "\n",
    "There are some tools to facilitate the easy matching of array shapes with expressions and in assignments.\n",
    "\n",
    "Ellipsis expands to the number of `:` objects needed for the selection tuple to index all dimensions. In most cases, this means that the length of the expanded selection tuple is `x.ndim`. There may only be a single ellipsis present. From the above example:"
   ]
  },
  {
   "cell_type": "code",
   "execution_count": 92,
   "id": "0ed0427b",
   "metadata": {},
   "outputs": [
    {
     "data": {
      "text/plain": [
       "array([[1, 2, 3],\n",
       "       [4, 5, 6]])"
      ]
     },
     "execution_count": 92,
     "metadata": {},
     "output_type": "execute_result"
    }
   ],
   "source": [
    "x[..., 0]"
   ]
  },
  {
   "cell_type": "markdown",
   "id": "b1e91c49",
   "metadata": {},
   "source": [
    "This is equivalent to:"
   ]
  },
  {
   "cell_type": "code",
   "execution_count": 93,
   "id": "d3fc9d4d",
   "metadata": {},
   "outputs": [
    {
     "data": {
      "text/plain": [
       "array([[1, 2, 3],\n",
       "       [4, 5, 6]])"
      ]
     },
     "execution_count": 93,
     "metadata": {},
     "output_type": "execute_result"
    }
   ],
   "source": [
    "x[:, :, 0]"
   ]
  },
  {
   "cell_type": "markdown",
   "id": "cc5d5bc6",
   "metadata": {},
   "source": [
    "Each `newaxis` object in the selection tuple serves to expand the dimensions of the resulting selection by one unit-length dimension. The added dimension is the position of the `newaxis` object in the selection tuple. `newaxis` is an alias for `None`, and `None` can be used in place of this with the same result. From the above example:"
   ]
  },
  {
   "cell_type": "code",
   "execution_count": 94,
   "id": "4939bc48",
   "metadata": {},
   "outputs": [
    {
     "data": {
      "text/plain": [
       "(2, 1, 3, 1)"
      ]
     },
     "execution_count": 94,
     "metadata": {},
     "output_type": "execute_result"
    }
   ],
   "source": [
    "x[:, np.newaxis, :, :].shape"
   ]
  },
  {
   "cell_type": "code",
   "execution_count": 95,
   "id": "cac011d2",
   "metadata": {},
   "outputs": [
    {
     "data": {
      "text/plain": [
       "(2, 1, 3, 1)"
      ]
     },
     "execution_count": 95,
     "metadata": {},
     "output_type": "execute_result"
    }
   ],
   "source": [
    "x[:, None, :, :].shape"
   ]
  },
  {
   "cell_type": "markdown",
   "id": "b9c707f0",
   "metadata": {},
   "source": [
    "This can be handy to combine two arrays in a way that otherwise would require explicit reshaping operations. For example:"
   ]
  },
  {
   "cell_type": "code",
   "execution_count": 96,
   "id": "9f4e4d12",
   "metadata": {},
   "outputs": [
    {
     "data": {
      "text/plain": [
       "array([[0, 1, 2, 3, 4],\n",
       "       [1, 2, 3, 4, 5],\n",
       "       [2, 3, 4, 5, 6],\n",
       "       [3, 4, 5, 6, 7],\n",
       "       [4, 5, 6, 7, 8]])"
      ]
     },
     "execution_count": 96,
     "metadata": {},
     "output_type": "execute_result"
    }
   ],
   "source": [
    "x = np.arange(5)\n",
    "x[:, np.newaxis] + x[np.newaxis, :]"
   ]
  },
  {
   "cell_type": "markdown",
   "id": "067a1f9e",
   "metadata": {},
   "source": [
    "### Advanced indexing\n",
    "\n",
    "Advanced indexing is triggered when the selection object, obj, is a non-tuple sequence object, an `ndarray` (of data type integer or bool), or a tuple with at least one sequence object or ndarray (of data type integer or bool). There are two types of advanced indexing: integer and Boolean.\n",
    "\n",
    "Advanced indexing always returns a copy of the data (contrast with basic slicing that returns a `view`).\n",
    "\n",
    "**WARNING:** The definition of advanced indexing means that `x[(1, 2, 3),]` is fundamentally different than `x[(1, 2, 3)]`. The latter is equivalent to `x[1, 2, 3]` which will trigger basic selection while the former will trigger advanced indexing. Be sure to understand why this occurs.\n",
    "\n",
    "Also recognize that `x[[1, 2, 3]]` will trigger advanced indexing, whereas due to the deprecated Numeric compatibility mentioned above, `x[[1, 2, slice(None)]]` will trigger basic slicing.\n",
    "\n",
    "#### Integer array indexing\n",
    "\n",
    "Integer array indexing allows selection of arbitrary items in the array based on their *N*-dimensional index. Each integer array represents a number of indices into that dimension.\n",
    "\n",
    "Negative values are permitted in the index arrays and work as they do with single indices or slices:"
   ]
  },
  {
   "cell_type": "code",
   "execution_count": 97,
   "id": "f82e5ad7",
   "metadata": {},
   "outputs": [],
   "source": [
    "x = np.arange(10, 1, -1)"
   ]
  },
  {
   "cell_type": "code",
   "execution_count": 98,
   "id": "bfab80c7",
   "metadata": {},
   "outputs": [
    {
     "data": {
      "text/plain": [
       "array([10,  9,  8,  7,  6,  5,  4,  3,  2])"
      ]
     },
     "execution_count": 98,
     "metadata": {},
     "output_type": "execute_result"
    }
   ],
   "source": [
    "x"
   ]
  },
  {
   "cell_type": "code",
   "execution_count": 99,
   "id": "956a8727",
   "metadata": {},
   "outputs": [
    {
     "data": {
      "text/plain": [
       "array([7, 7, 9, 2])"
      ]
     },
     "execution_count": 99,
     "metadata": {},
     "output_type": "execute_result"
    }
   ],
   "source": [
    "x[np.array([3, 3, 1, 8])]"
   ]
  },
  {
   "cell_type": "code",
   "execution_count": 100,
   "id": "8cac6338",
   "metadata": {},
   "outputs": [
    {
     "data": {
      "text/plain": [
       "array([7, 7, 4, 2])"
      ]
     },
     "execution_count": 100,
     "metadata": {},
     "output_type": "execute_result"
    }
   ],
   "source": [
    "x[np.array([3, 3, -3, 8])]"
   ]
  },
  {
   "cell_type": "markdown",
   "id": "22ff04a8",
   "metadata": {},
   "source": [
    "If the index values are out of bounds then an `IndexError` is thrown:"
   ]
  },
  {
   "cell_type": "code",
   "execution_count": 101,
   "id": "e3b458d9",
   "metadata": {},
   "outputs": [],
   "source": [
    "x = np.array([[1, 2], [3, 4], [5, 6]])"
   ]
  },
  {
   "cell_type": "code",
   "execution_count": 102,
   "id": "1b47df49",
   "metadata": {},
   "outputs": [
    {
     "data": {
      "text/plain": [
       "array([[3, 4],\n",
       "       [5, 6]])"
      ]
     },
     "execution_count": 102,
     "metadata": {},
     "output_type": "execute_result"
    }
   ],
   "source": [
    "x[np.array([1, -1])]"
   ]
  },
  {
   "cell_type": "markdown",
   "id": "bb026c5e",
   "metadata": {},
   "source": [
    "```py\n",
    "x[np.array([3, 4])]\n",
    "```\n",
    "\n",
    "```py\n",
    "Traceback (most recent call last):\n",
    "  ...\n",
    "IndexError: index 3 is out of bounds for axis 0 with size 3\n",
    "```\n",
    "\n",
    "When the index consists of as many integer arrays as dimensions of the array being indexed, the indexing is straightforward, but different from slicing.\n",
    "\n",
    "Advanced indices always are broadcast and iterated as *one*:\n",
    "\n",
    "```py\n",
    "result[i_1, ..., i_M] == x[ind_1[i_1, ..., i_M], ind_2[i_1, ..., i_M],\n",
    "                           ..., ind_N[i_1, ..., i_M]]\n",
    "```\n",
    "\n",
    "Note that the resulting shape is identical to the (broadcast) indexing array shapes `ind_1, ..., ind_N`. If the indices cannot be broadcast to the same shape, an exception `IndexError: shape mismatch: indexing arrays could not be broadcast together with shapes...` is raised.\n",
    "\n",
    "Indexing with multidimensional index arrays tend to be more unusual uses, but they are permitted, and they are useful for some problems. We’ll start with the simplest multidimensional case:"
   ]
  },
  {
   "cell_type": "code",
   "execution_count": 103,
   "id": "a0c3e2dc",
   "metadata": {},
   "outputs": [],
   "source": [
    "y = np.arange(35).reshape(5, 7)"
   ]
  },
  {
   "cell_type": "code",
   "execution_count": 104,
   "id": "cce3ae3e",
   "metadata": {},
   "outputs": [
    {
     "data": {
      "text/plain": [
       "array([[ 0,  1,  2,  3,  4,  5,  6],\n",
       "       [ 7,  8,  9, 10, 11, 12, 13],\n",
       "       [14, 15, 16, 17, 18, 19, 20],\n",
       "       [21, 22, 23, 24, 25, 26, 27],\n",
       "       [28, 29, 30, 31, 32, 33, 34]])"
      ]
     },
     "execution_count": 104,
     "metadata": {},
     "output_type": "execute_result"
    }
   ],
   "source": [
    "y"
   ]
  },
  {
   "cell_type": "code",
   "execution_count": 105,
   "id": "360e850f",
   "metadata": {},
   "outputs": [
    {
     "data": {
      "text/plain": [
       "array([ 0, 15, 30])"
      ]
     },
     "execution_count": 105,
     "metadata": {},
     "output_type": "execute_result"
    }
   ],
   "source": [
    "y[np.array([0, 2, 4]), np.array([0, 1, 2])]"
   ]
  },
  {
   "cell_type": "markdown",
   "id": "97d6d376",
   "metadata": {},
   "source": [
    "In this case, if the index arrays have a matching shape, and there is an index array for each dimension of the array being indexed, the resultant array has the same shape as the index arrays, and the values correspond to the index set for each position in the index arrays. In this example, the first index value is 0 for both index arrays, and thus the first value of the resultant array is `y[0, 0]`. The next value is `y[2, 1]`, and the last is `y[4, 2]`.\n",
    "\n",
    "If the index arrays do not have the same shape, there is an attempt to broadcast them to the same shape. If they cannot be broadcast to the same shape, an exception is raised:\n",
    "\n",
    "```py\n",
    "y[np.array([0, 2, 4]), np.array([0, 1])]\n",
    "```\n",
    "\n",
    "```py\n",
    "Traceback (most recent call last):\n",
    "  ...\n",
    "IndexError: shape mismatch: indexing arrays could not be broadcast together with shapes (3,) (2,)\n",
    "```\n",
    "\n",
    "The broadcasting mechanism permits index arrays to be combined with scalars for other indices. The effect is that the scalar value is used for all the corresponding values of the index arrays:"
   ]
  },
  {
   "cell_type": "code",
   "execution_count": 106,
   "id": "19b31f9a",
   "metadata": {},
   "outputs": [
    {
     "data": {
      "text/plain": [
       "array([ 1, 15, 29])"
      ]
     },
     "execution_count": 106,
     "metadata": {},
     "output_type": "execute_result"
    }
   ],
   "source": [
    "y[np.array([0, 2, 4]), 1]"
   ]
  },
  {
   "cell_type": "markdown",
   "id": "d1e135bb",
   "metadata": {},
   "source": [
    "Jumping to the next level of complexity, it is possible to only partially index an array with index arrays. It takes a bit of thought to understand what happens in such cases. For example if we just use one index array with y:"
   ]
  },
  {
   "cell_type": "code",
   "execution_count": 107,
   "id": "f457f596",
   "metadata": {},
   "outputs": [
    {
     "data": {
      "text/plain": [
       "array([[ 0,  1,  2,  3,  4,  5,  6],\n",
       "       [14, 15, 16, 17, 18, 19, 20],\n",
       "       [28, 29, 30, 31, 32, 33, 34]])"
      ]
     },
     "execution_count": 107,
     "metadata": {},
     "output_type": "execute_result"
    }
   ],
   "source": [
    "y[np.array([0, 2, 4])]"
   ]
  },
  {
   "cell_type": "markdown",
   "id": "138b0f9a",
   "metadata": {},
   "source": [
    "It results in the construction of a new array where each value of the index array selects one row from the array being indexed and the resultant array has the resulting shape (number of index elements, size of row).\n",
    "\n",
    "In general, the shape of the resultant array will be the concatenation of the shape of the index array (or the shape that all the index arrays were broadcast to) with the shape of any unused dimensions (those not indexed) in the array being indexed.\n",
    "\n",
    "##### Example 1\n",
    "\n",
    "From each row, a specific element should be selected. The row index is just `[0, 1, 2]` and the column index specifies the element to choose for the corresponding row, here `[0, 1, 0]`. Using both together the task can be solved using advanced indexing:"
   ]
  },
  {
   "cell_type": "code",
   "execution_count": 108,
   "id": "af90f7a4",
   "metadata": {},
   "outputs": [
    {
     "data": {
      "text/plain": [
       "array([1, 4, 5])"
      ]
     },
     "execution_count": 108,
     "metadata": {},
     "output_type": "execute_result"
    }
   ],
   "source": [
    "x = np.array([[1, 2], [3, 4], [5, 6]])\n",
    "x[[0, 1, 2], [0, 1, 0]]"
   ]
  },
  {
   "cell_type": "markdown",
   "id": "a0527236",
   "metadata": {},
   "source": [
    "To achieve a behaviour similar to the basic slicing above, broadcasting can be used. The function `ix_` can help with this broadcasting. This is best understood with an example.\n",
    "\n",
    "##### Example 2\n",
    "\n",
    "From a $4x3$ array the corner elements should be selected using advanced indexing. Thus all elements for which the column is one of `[0, 2]` and the row is one of `[0, 3]` need to be selected. To use advanced indexing one needs to select all elements explicitly. Using the method explained previously one could write:"
   ]
  },
  {
   "cell_type": "code",
   "execution_count": 109,
   "id": "bb063f20",
   "metadata": {},
   "outputs": [
    {
     "data": {
      "text/plain": [
       "array([[ 0,  2],\n",
       "       [ 9, 11]])"
      ]
     },
     "execution_count": 109,
     "metadata": {},
     "output_type": "execute_result"
    }
   ],
   "source": [
    "x = np.array([[ 0,  1,  2],\n",
    "              [ 3,  4,  5],\n",
    "              [ 6,  7,  8],\n",
    "              [ 9, 10, 11]])\n",
    "rows = np.array([[0, 0],\n",
    "                 [3, 3]], dtype=np.intp)\n",
    "columns = np.array([[0, 2],\n",
    "                    [0, 2]], dtype=np.intp)\n",
    "x[rows, columns]"
   ]
  },
  {
   "cell_type": "markdown",
   "id": "0d5f213b",
   "metadata": {},
   "source": [
    "However, since the indexing arrays above just repeat themselves, broadcasting can be used (compare operations such as `rows[:, np.newaxis] + columns`) to simplify this:"
   ]
  },
  {
   "cell_type": "code",
   "execution_count": 110,
   "id": "fc3bfb49",
   "metadata": {},
   "outputs": [],
   "source": [
    "rows = np.array([0, 3], dtype=np.intp)\n",
    "columns = np.array([0, 2], dtype=np.intp)"
   ]
  },
  {
   "cell_type": "code",
   "execution_count": 111,
   "id": "82f20c81",
   "metadata": {},
   "outputs": [
    {
     "data": {
      "text/plain": [
       "array([[0],\n",
       "       [3]])"
      ]
     },
     "execution_count": 111,
     "metadata": {},
     "output_type": "execute_result"
    }
   ],
   "source": [
    "rows[:, np.newaxis]"
   ]
  },
  {
   "cell_type": "code",
   "execution_count": 112,
   "id": "0508194f",
   "metadata": {},
   "outputs": [
    {
     "data": {
      "text/plain": [
       "array([[ 0,  2],\n",
       "       [ 9, 11]])"
      ]
     },
     "execution_count": 112,
     "metadata": {},
     "output_type": "execute_result"
    }
   ],
   "source": [
    "x[rows[:, np.newaxis], columns]"
   ]
  },
  {
   "cell_type": "markdown",
   "id": "e4d88e40",
   "metadata": {},
   "source": [
    "This broadcasting can also be achieved using the function `ix_`:"
   ]
  },
  {
   "cell_type": "code",
   "execution_count": 113,
   "id": "01deb895",
   "metadata": {},
   "outputs": [
    {
     "data": {
      "text/plain": [
       "array([[ 0,  2],\n",
       "       [ 9, 11]])"
      ]
     },
     "execution_count": 113,
     "metadata": {},
     "output_type": "execute_result"
    }
   ],
   "source": [
    "x[np.ix_(rows, columns)]"
   ]
  },
  {
   "cell_type": "markdown",
   "id": "a71852eb",
   "metadata": {},
   "source": [
    "Note that without the `np.ix_` call, only the diagonal elements would be selected:"
   ]
  },
  {
   "cell_type": "code",
   "execution_count": 114,
   "id": "1ee5c0ff",
   "metadata": {},
   "outputs": [
    {
     "data": {
      "text/plain": [
       "array([ 0, 11])"
      ]
     },
     "execution_count": 114,
     "metadata": {},
     "output_type": "execute_result"
    }
   ],
   "source": [
    "x[rows, columns]"
   ]
  },
  {
   "cell_type": "markdown",
   "id": "5f487bfd",
   "metadata": {},
   "source": [
    "This difference is the most important thing to remember about indexing with multiple advanced indices.\n",
    "\n",
    "##### Example 3\n",
    "\n",
    "A real-life example of where advanced indexing may be useful is for a color lookup table where we want to map the values of an image into RGB triples for display. The lookup table could have a shape (nlookup, 3). Indexing such an array with an image with shape (ny, nx) with dtype=np.uint8 (or any integer type so long as values are with the bounds of the lookup table) will result in an array of shape (ny, nx, 3) where a triple of RGB values is associated with each pixel location.\n",
    "\n",
    "#### Boolean array indexing\n",
    "\n",
    "This advanced indexing occurs when obj is an array object of Boolean type, such as may be returned from comparison operators. A single boolean index array is practically identical to `x[obj.nonzero()]` where, as described above, `obj.nonzero()` returns a tuple (of length `obj.ndim`) of integer index arrays showing the `True` elements of obj. However, it is faster when `obj.shape == x.shape`.\n",
    "\n",
    "If `obj.ndim == x.ndim`, `x[obj]` returns a 1-dimensional array filled with the elements of x corresponding to the `True` values of obj. The search order will be **row-major**, C-style. If obj has `True` values at entries that are outside of the bounds of x, then an index error will be raised. If obj is smaller than x it is identical to filling it with `False`.\n",
    "\n",
    "A common use case for this is filtering for desired element values. For example, one may wish to select all entries from an array which are not `NaN`:"
   ]
  },
  {
   "cell_type": "code",
   "execution_count": 115,
   "id": "c477e468",
   "metadata": {},
   "outputs": [
    {
     "data": {
      "text/plain": [
       "array([1., 2., 3.])"
      ]
     },
     "execution_count": 115,
     "metadata": {},
     "output_type": "execute_result"
    }
   ],
   "source": [
    "x = np.array([[1., 2.], [np.nan, 3.], [np.nan, np.nan]])\n",
    "x[~np.isnan(x)]"
   ]
  },
  {
   "cell_type": "markdown",
   "id": "e3519563",
   "metadata": {},
   "source": [
    "Or wish to add a constant to all negative elements:"
   ]
  },
  {
   "cell_type": "code",
   "execution_count": 116,
   "id": "91366b4f",
   "metadata": {},
   "outputs": [
    {
     "data": {
      "text/plain": [
       "array([ 1., 19., 18.,  3.])"
      ]
     },
     "execution_count": 116,
     "metadata": {},
     "output_type": "execute_result"
    }
   ],
   "source": [
    "x = np.array([1., -1., -2., 3])\n",
    "x[x < 0] += 20\n",
    "x"
   ]
  },
  {
   "cell_type": "markdown",
   "id": "55713416",
   "metadata": {},
   "source": [
    "In general if an index includes a Boolean array, the result will be identical to inserting `obj.nonzero()` into the same position and using the integer array indexing mechanism described above. `x[ind_1, boolean_array, ind_2]` is equivalent to `x[(ind_1,) + boolean_array.nonzero() + (ind_2,)]`.\n",
    "\n",
    "If there is only one Boolean array and no integer indexing array present, this is straightforward. Care must only be taken to make sure that the boolean index has exactly as many dimensions as it is supposed to work with.\n",
    "\n",
    "In general, when the boolean array has fewer dimensions than the array being indexed, this is equivalent to `x[b, ...]`, which means x is indexed by b followed by as many : as are needed to fill out the rank of x. Thus the shape of the result is one dimension containing the number of True elements of the boolean array, followed by the remaining dimensions of the array being indexed:"
   ]
  },
  {
   "cell_type": "code",
   "execution_count": 117,
   "id": "eaa0de08",
   "metadata": {},
   "outputs": [],
   "source": [
    "x = np.arange(35).reshape(5, 7)\n",
    "b = x > 20"
   ]
  },
  {
   "cell_type": "code",
   "execution_count": 118,
   "id": "743373e3",
   "metadata": {},
   "outputs": [
    {
     "data": {
      "text/plain": [
       "array([False, False, False,  True,  True])"
      ]
     },
     "execution_count": 118,
     "metadata": {},
     "output_type": "execute_result"
    }
   ],
   "source": [
    "b[:, 5]"
   ]
  },
  {
   "cell_type": "code",
   "execution_count": 119,
   "id": "31b9c23d",
   "metadata": {},
   "outputs": [
    {
     "data": {
      "text/plain": [
       "array([[21, 22, 23, 24, 25, 26, 27],\n",
       "       [28, 29, 30, 31, 32, 33, 34]])"
      ]
     },
     "execution_count": 119,
     "metadata": {},
     "output_type": "execute_result"
    }
   ],
   "source": [
    "x[b[:, 5]]"
   ]
  },
  {
   "cell_type": "markdown",
   "id": "f6837c2e",
   "metadata": {},
   "source": [
    "Here the 4th and 5th rows are selected from the indexed array and combined to make a 2-D array.\n",
    "\n",
    "##### Example 1\n",
    "\n",
    "From an array, select all rows which sum up to less or equal two:"
   ]
  },
  {
   "cell_type": "code",
   "execution_count": 120,
   "id": "7cf770ef",
   "metadata": {},
   "outputs": [
    {
     "data": {
      "text/plain": [
       "array([[0, 1],\n",
       "       [1, 1]])"
      ]
     },
     "execution_count": 120,
     "metadata": {},
     "output_type": "execute_result"
    }
   ],
   "source": [
    "x = np.array([[0, 1], [1, 1], [2, 2]])\n",
    "rowsum = x.sum(-1)\n",
    "x[rowsum <= 2, :]"
   ]
  },
  {
   "cell_type": "markdown",
   "id": "44156bd1",
   "metadata": {},
   "source": [
    "Combining multiple Boolean indexing arrays or a Boolean with an integer indexing array can best be understood with the `obj.nonzero()` analogy. The function `ix_` also supports boolean arrays and will work without any surprises.\n",
    "\n",
    "##### Example 2\n",
    "\n",
    "Use boolean indexing to select all rows adding up to an even number. At the same time columns 0 and 2 should be selected with an advanced integer index. Using the `ix_` function this can be done with:"
   ]
  },
  {
   "cell_type": "code",
   "execution_count": 121,
   "id": "3bc0dbeb",
   "metadata": {},
   "outputs": [],
   "source": [
    "x = np.array([[ 0,  1,  2],\n",
    "              [ 3,  4,  5],\n",
    "              [ 6,  7,  8],\n",
    "              [ 9, 10, 11]])\n",
    "rows = (x.sum(-1) % 2) == 0"
   ]
  },
  {
   "cell_type": "code",
   "execution_count": 122,
   "id": "d761ae2a",
   "metadata": {},
   "outputs": [
    {
     "data": {
      "text/plain": [
       "array([False,  True, False,  True])"
      ]
     },
     "execution_count": 122,
     "metadata": {},
     "output_type": "execute_result"
    }
   ],
   "source": [
    "rows"
   ]
  },
  {
   "cell_type": "code",
   "execution_count": 123,
   "id": "d74d21a2",
   "metadata": {},
   "outputs": [],
   "source": [
    "columns = [0, 2]"
   ]
  },
  {
   "cell_type": "code",
   "execution_count": 124,
   "id": "a18971be",
   "metadata": {},
   "outputs": [
    {
     "data": {
      "text/plain": [
       "array([[ 3,  5],\n",
       "       [ 9, 11]])"
      ]
     },
     "execution_count": 124,
     "metadata": {},
     "output_type": "execute_result"
    }
   ],
   "source": [
    "x[np.ix_(rows, columns)]"
   ]
  },
  {
   "cell_type": "markdown",
   "id": "17646e77",
   "metadata": {},
   "source": [
    "Without the n`p.ix_` call, only the diagonal elements would be selected.\n",
    "\n",
    "Or without `np.ix_` (compare the integer array examples):"
   ]
  },
  {
   "cell_type": "code",
   "execution_count": 125,
   "id": "9fb1507a",
   "metadata": {},
   "outputs": [
    {
     "data": {
      "text/plain": [
       "array([[ 3,  5],\n",
       "       [ 9, 11]])"
      ]
     },
     "execution_count": 125,
     "metadata": {},
     "output_type": "execute_result"
    }
   ],
   "source": [
    "rows = rows.nonzero()[0]\n",
    "x[rows[:, np.newaxis], columns]"
   ]
  },
  {
   "cell_type": "markdown",
   "id": "b6fae281",
   "metadata": {},
   "source": [
    "##### Example 3\n",
    "\n",
    "Use a 2-D boolean array of shape (2, 3) with four True elements to select rows from a 3-D array of shape (2, 3, 5) results in a 2-D result of shape (4, 5):"
   ]
  },
  {
   "cell_type": "code",
   "execution_count": 126,
   "id": "78115acb",
   "metadata": {},
   "outputs": [
    {
     "data": {
      "text/plain": [
       "array([[[ 0,  1,  2,  3,  4],\n",
       "        [ 5,  6,  7,  8,  9],\n",
       "        [10, 11, 12, 13, 14]],\n",
       "\n",
       "       [[15, 16, 17, 18, 19],\n",
       "        [20, 21, 22, 23, 24],\n",
       "        [25, 26, 27, 28, 29]]])"
      ]
     },
     "execution_count": 126,
     "metadata": {},
     "output_type": "execute_result"
    }
   ],
   "source": [
    "x = np.arange(30).reshape(2, 3, 5)\n",
    "x"
   ]
  },
  {
   "cell_type": "code",
   "execution_count": 127,
   "id": "c96259ef",
   "metadata": {},
   "outputs": [
    {
     "data": {
      "text/plain": [
       "array([[ 0,  1,  2,  3,  4],\n",
       "       [ 5,  6,  7,  8,  9],\n",
       "       [20, 21, 22, 23, 24],\n",
       "       [25, 26, 27, 28, 29]])"
      ]
     },
     "execution_count": 127,
     "metadata": {},
     "output_type": "execute_result"
    }
   ],
   "source": [
    "b = np.array([[True, True, False], [False, True, True]])\n",
    "x[b]"
   ]
  },
  {
   "cell_type": "markdown",
   "id": "2f2253ef",
   "metadata": {},
   "source": [
    "#### Combining advanced and basic indexing\n",
    "\n",
    "When there is at least one slice (`:`), ellipsis (`...`) or `newaxis` in the index (or the array has more dimensions than there are advanced indices), then the behaviour can be more complicated. It is like concatenating the indexing result for each advanced index element.\n",
    "\n",
    "In the simplest case, there is only a single advanced index combined with a slice. For example:"
   ]
  },
  {
   "cell_type": "code",
   "execution_count": 128,
   "id": "dc4e30d8",
   "metadata": {},
   "outputs": [
    {
     "data": {
      "text/plain": [
       "array([[ 1,  2],\n",
       "       [15, 16],\n",
       "       [29, 30]])"
      ]
     },
     "execution_count": 128,
     "metadata": {},
     "output_type": "execute_result"
    }
   ],
   "source": [
    "y = np.arange(35).reshape(5,7)\n",
    "y[np.array([0, 2, 4]), 1:3]"
   ]
  },
  {
   "cell_type": "markdown",
   "id": "fed57ab4",
   "metadata": {},
   "source": [
    "In effect, the slice and index array operation are independent. The slice operation extracts columns with index 1 and 2, (i.e. the 2nd and 3rd columns), followed by the index array operation which extracts rows with index 0, 2 and 4 (i.e the first, third and fifth rows). This is equivalent to:"
   ]
  },
  {
   "cell_type": "code",
   "execution_count": 129,
   "id": "d6b7f3d4",
   "metadata": {},
   "outputs": [
    {
     "data": {
      "text/plain": [
       "array([[ 1,  2],\n",
       "       [15, 16],\n",
       "       [29, 30]])"
      ]
     },
     "execution_count": 129,
     "metadata": {},
     "output_type": "execute_result"
    }
   ],
   "source": [
    "y[:, 1:3][np.array([0, 2, 4]), :]"
   ]
  },
  {
   "cell_type": "markdown",
   "id": "d4b0d9b1",
   "metadata": {},
   "source": [
    "A single advanced index can, for example, replace a slice and the result array will be the same. However, it is a copy and may have a different memory layout. A slice is preferable when it is possible. For example:"
   ]
  },
  {
   "cell_type": "code",
   "execution_count": 130,
   "id": "253ef988",
   "metadata": {},
   "outputs": [],
   "source": [
    "x = np.array([[ 0,  1,  2],\n",
    "              [ 3,  4,  5],\n",
    "              [ 6,  7,  8],\n",
    "              [ 9, 10, 11]])"
   ]
  },
  {
   "cell_type": "code",
   "execution_count": 131,
   "id": "e636f020",
   "metadata": {},
   "outputs": [
    {
     "data": {
      "text/plain": [
       "array([[4, 5]])"
      ]
     },
     "execution_count": 131,
     "metadata": {},
     "output_type": "execute_result"
    }
   ],
   "source": [
    "x[1:2, 1:3]"
   ]
  },
  {
   "cell_type": "code",
   "execution_count": 132,
   "id": "1631b530",
   "metadata": {},
   "outputs": [
    {
     "data": {
      "text/plain": [
       "array([[4, 5]])"
      ]
     },
     "execution_count": 132,
     "metadata": {},
     "output_type": "execute_result"
    }
   ],
   "source": [
    "x[1:2, [1, 2]]"
   ]
  },
  {
   "cell_type": "markdown",
   "id": "5080514a",
   "metadata": {},
   "source": [
    "The easiest way to understand a combination of multiple advanced indices may be to think in terms of the resulting shape. There are two parts to the indexing operation, the subspace defined by the basic indexing (excluding integers) and the subspace from the advanced indexing part. Two cases of index combination need to be distinguished:\n",
    "\n",
    "- The advanced indices are separated by a slice, `Ellipsis` or `newaxis`. For example `x[arr1, :, arr2]`.\n",
    "- The advanced indices are all next to each other. For example `x[..., arr1, arr2, :]` but not` x[arr1, :, 1]` since `1` is an advanced index in this regard.\n",
    "\n",
    "In the first case, the dimensions resulting from the advanced indexing operation come first in the result array, and the subspace dimensions after that. In the second case, the dimensions from the advanced indexing operations are inserted into the result array at the same spot as they were in the initial array (the latter logic is what makes simple advanced indexing behave just like slicing).\n",
    "\n",
    "##### Example 1\n",
    "\n",
    "Suppose `x.shape` is (10, 20, 30) and `ind` is a (2, 3, 4)-shaped indexing intp array, then `result = x[..., ind, :]` has shape (10, 2, 3, 4, 30) because the (20,)-shaped subspace has been replaced with a (2, 3, 4)-shaped broadcasted indexing subspace. If we let i, j, k loop over the (2, 3, 4)-shaped subspace then `result[..., i, j, k, :] = x[..., ind[i, j, k], :]`. This example produces the same result as `x.take(ind, axis=-2)`.\n",
    "\n",
    "##### Example 2\n",
    "\n",
    "Let `x.shape` be (10, 20, 30, 40, 50) and suppose `ind_1` and `ind_2` can be broadcast to the shape (2, 3, 4). Then `x[:, ind_1, ind_2]` has shape (10, 2, 3, 4, 40, 50) because the (20, 30)-shaped subspace from X has been replaced with the (2, 3, 4) subspace from the indices. However, `x[:, ind_1, :, ind_2]` has shape (2, 3, 4, 10, 30, 50) because there is no unambiguous place to drop in the indexing subspace, thus it is tacked-on to the beginning. It is always possible to use `.transpose()` to move the subspace anywhere desired. Note that this example cannot be replicated using `take`.\n",
    "\n",
    "##### Example 3\n",
    "\n",
    "Slicing can be combined with broadcasted boolean indices:"
   ]
  },
  {
   "cell_type": "code",
   "execution_count": 133,
   "id": "8697c16d",
   "metadata": {},
   "outputs": [],
   "source": [
    "x = np.arange(35).reshape(5, 7)\n",
    "b = x > 20"
   ]
  },
  {
   "cell_type": "code",
   "execution_count": 134,
   "id": "f9b72728",
   "metadata": {},
   "outputs": [
    {
     "data": {
      "text/plain": [
       "array([[False, False, False, False, False, False, False],\n",
       "       [False, False, False, False, False, False, False],\n",
       "       [False, False, False, False, False, False, False],\n",
       "       [ True,  True,  True,  True,  True,  True,  True],\n",
       "       [ True,  True,  True,  True,  True,  True,  True]])"
      ]
     },
     "execution_count": 134,
     "metadata": {},
     "output_type": "execute_result"
    }
   ],
   "source": [
    "b"
   ]
  },
  {
   "cell_type": "code",
   "execution_count": 135,
   "id": "110ae33f",
   "metadata": {},
   "outputs": [
    {
     "data": {
      "text/plain": [
       "array([[22, 23],\n",
       "       [29, 30]])"
      ]
     },
     "execution_count": 135,
     "metadata": {},
     "output_type": "execute_result"
    }
   ],
   "source": [
    "x[b[:, 5], 1:3]"
   ]
  },
  {
   "cell_type": "markdown",
   "id": "9352e56b",
   "metadata": {},
   "source": [
    "### Field access\n",
    "\n",
    "If the `ndarray` object is a structured array the fields of the array can be accessed by indexing the array with strings, dictionary-like.\n",
    "\n",
    "Indexing `x['field-name']` returns a new `view` to the array, which is of the same shape as x (except when the field is a sub-array) but of data type `x.dtype['field-name']` and contains only the part of the data in the specified field. Also, record array scalars can be “indexed” this way.\n",
    "\n",
    "Indexing into a structured array can also be done with a list of field names, e.g. `x[['field-name1', 'field-name2']]`. As of NumPy 1.16, this returns a view containing only those fields. In older versions of NumPy, it returned a copy. See the user guide section on `Structured arrays` for more information on multifield indexing.\n",
    "\n",
    "If the accessed field is a sub-array, the dimensions of the sub-array are appended to the shape of the result. For example:"
   ]
  },
  {
   "cell_type": "code",
   "execution_count": 136,
   "id": "3bc66d29",
   "metadata": {},
   "outputs": [],
   "source": [
    "x = np.zeros((2, 2), dtype=[('a', np.int32), ('b', np.float64, (3, 3))])"
   ]
  },
  {
   "cell_type": "code",
   "execution_count": 137,
   "id": "0c413d0c",
   "metadata": {},
   "outputs": [
    {
     "data": {
      "text/plain": [
       "(2, 2)"
      ]
     },
     "execution_count": 137,
     "metadata": {},
     "output_type": "execute_result"
    }
   ],
   "source": [
    "x['a'].shape"
   ]
  },
  {
   "cell_type": "code",
   "execution_count": 138,
   "id": "e75a907f",
   "metadata": {},
   "outputs": [
    {
     "data": {
      "text/plain": [
       "dtype('int32')"
      ]
     },
     "execution_count": 138,
     "metadata": {},
     "output_type": "execute_result"
    }
   ],
   "source": [
    "x['a'].dtype"
   ]
  },
  {
   "cell_type": "code",
   "execution_count": 139,
   "id": "5f89a3e1",
   "metadata": {},
   "outputs": [
    {
     "data": {
      "text/plain": [
       "(2, 2, 3, 3)"
      ]
     },
     "execution_count": 139,
     "metadata": {},
     "output_type": "execute_result"
    }
   ],
   "source": [
    "x['b'].shape"
   ]
  },
  {
   "cell_type": "code",
   "execution_count": 140,
   "id": "cf19c10d",
   "metadata": {},
   "outputs": [
    {
     "data": {
      "text/plain": [
       "dtype('float64')"
      ]
     },
     "execution_count": 140,
     "metadata": {},
     "output_type": "execute_result"
    }
   ],
   "source": [
    "x['b'].dtype"
   ]
  },
  {
   "cell_type": "markdown",
   "id": "4bdee98b",
   "metadata": {},
   "source": [
    "### Flat Iterator indexing\n",
    "\n",
    "`x.flat` returns an iterator that will iterate over the entire array (in C-contiguous style with the last index varying the fastest). This iterator object can also be indexed using basic slicing or advanced indexing as long as the selection object is not a tuple. This should be clear from the fact that` x.flat` is a 1-dimensional view. It can be used for integer indexing with 1-dimensional C-style-flat indices. The shape of any returned array is therefore the shape of the integer indexing object.\n",
    "\n",
    "### Assigning values to indexed arrays\n",
    "\n",
    "As mentioned, one can select a subset of an array to assign to using a single index, slices, and index and mask arrays. The value being assigned to the indexed array must be shape consistent (the same shape or broadcastable to the shape the index produces). For example, it is permitted to assign a constant to a slice:"
   ]
  },
  {
   "cell_type": "code",
   "execution_count": 141,
   "id": "1a177024",
   "metadata": {},
   "outputs": [],
   "source": [
    "x = np.arange(10)\n",
    "x[2:7] = 1"
   ]
  },
  {
   "cell_type": "markdown",
   "id": "d673c9f4",
   "metadata": {},
   "source": [
    "Or an array of the right size:"
   ]
  },
  {
   "cell_type": "code",
   "execution_count": 142,
   "id": "4e3b61fa",
   "metadata": {},
   "outputs": [],
   "source": [
    "x[2:7] = np.arange(5)"
   ]
  },
  {
   "cell_type": "markdown",
   "id": "de36293d",
   "metadata": {},
   "source": [
    "Note that assignments may result in changes if assigning higher types to lower types (like floats to ints) or even exceptions (assigning complex to floats or ints):"
   ]
  },
  {
   "cell_type": "code",
   "execution_count": 143,
   "id": "04dc3362",
   "metadata": {},
   "outputs": [
    {
     "data": {
      "text/plain": [
       "1"
      ]
     },
     "execution_count": 143,
     "metadata": {},
     "output_type": "execute_result"
    }
   ],
   "source": [
    "x[1] = 1.2\n",
    "x[1]"
   ]
  },
  {
   "cell_type": "markdown",
   "id": "2f08f6bf",
   "metadata": {},
   "source": [
    "```py\n",
    "x[1] = 1.2j\n",
    "```\n",
    "\n",
    "```py\n",
    "Traceback (most recent call last):\n",
    "  ...\n",
    "TypeError: can't convert complex to int\n",
    "```\n",
    "\n",
    "Unlike some of the references (such as array and mask indices) assignments are always made to the original data in the array (indeed, nothing else would make sense!). Note though, that some actions may not work as one may naively expect. This particular example is often surprising to people:"
   ]
  },
  {
   "cell_type": "code",
   "execution_count": 144,
   "id": "e7cb4804",
   "metadata": {},
   "outputs": [
    {
     "data": {
      "text/plain": [
       "array([ 0, 10, 20, 30, 40])"
      ]
     },
     "execution_count": 144,
     "metadata": {},
     "output_type": "execute_result"
    }
   ],
   "source": [
    "x = np.arange(0, 50, 10)\n",
    "x"
   ]
  },
  {
   "cell_type": "code",
   "execution_count": 145,
   "id": "aaf29d75",
   "metadata": {},
   "outputs": [
    {
     "data": {
      "text/plain": [
       "array([ 0, 11, 20, 31, 40])"
      ]
     },
     "execution_count": 145,
     "metadata": {},
     "output_type": "execute_result"
    }
   ],
   "source": [
    "x[np.array([1, 1, 3, 1])] += 1\n",
    "x"
   ]
  },
  {
   "cell_type": "markdown",
   "id": "2f3e2ae8",
   "metadata": {},
   "source": [
    "Where people expect that the 1st location will be incremented by 3. In fact, it will only be incremented by 1. The reason is that a new array is extracted from the original (as a temporary) containing the values at 1, 1, 3, 1, then the value 1 is added to the temporary, and then the temporary is assigned back to the original array. Thus the value of the array at `x[1] + 1` is assigned to `x[1]` three times, rather than being incremented 3 times.\n",
    "\n",
    "### Dealing with variable numbers of indices within programs\n",
    "\n",
    "The indexing syntax is very powerful but limiting when dealing with a variable number of indices. For example, if you want to write a function that can handle arguments with various numbers of dimensions without having to write special case code for each number of possible dimensions, how can that be done? If one supplies to the index a tuple, the tuple will be interpreted as a list of indices. For example:"
   ]
  },
  {
   "cell_type": "code",
   "execution_count": 146,
   "id": "c0d5a356",
   "metadata": {},
   "outputs": [
    {
     "data": {
      "text/plain": [
       "40"
      ]
     },
     "execution_count": 146,
     "metadata": {},
     "output_type": "execute_result"
    }
   ],
   "source": [
    "z = np.arange(81).reshape(3, 3, 3, 3)\n",
    "indices = (1, 1, 1, 1)\n",
    "z[indices]"
   ]
  },
  {
   "cell_type": "markdown",
   "id": "d149b003",
   "metadata": {},
   "source": [
    "So one can use code to construct tuples of any number of indices and then use these within an index.\n",
    "\n",
    "Slices can be specified within programs by using the slice() function in Python. For example:"
   ]
  },
  {
   "cell_type": "code",
   "execution_count": 147,
   "id": "1bb474a8",
   "metadata": {},
   "outputs": [
    {
     "data": {
      "text/plain": [
       "array([39, 40])"
      ]
     },
     "execution_count": 147,
     "metadata": {},
     "output_type": "execute_result"
    }
   ],
   "source": [
    "indices = (1, 1, 1, slice(0, 2))  # same as [1, 1, 1, 0:2]\n",
    "z[indices]"
   ]
  },
  {
   "cell_type": "markdown",
   "id": "f543b380",
   "metadata": {},
   "source": [
    "Likewise, ellipsis can be specified by code by using the Ellipsis object:"
   ]
  },
  {
   "cell_type": "code",
   "execution_count": 148,
   "id": "94f7d216",
   "metadata": {},
   "outputs": [
    {
     "data": {
      "text/plain": [
       "array([[28, 31, 34],\n",
       "       [37, 40, 43],\n",
       "       [46, 49, 52]])"
      ]
     },
     "execution_count": 148,
     "metadata": {},
     "output_type": "execute_result"
    }
   ],
   "source": [
    "indices = (1, Ellipsis, 1)  # same as [1, ..., 1]\n",
    "z[indices]"
   ]
  },
  {
   "cell_type": "markdown",
   "id": "79b5e793",
   "metadata": {},
   "source": [
    "For this reason, it is possible to use the output from the `np.nonzero()` function directly as an index since it always returns a tuple of index arrays.\n",
    "\n",
    "Because of the special treatment of tuples, they are not automatically converted to an array as a list would be. As an example:"
   ]
  },
  {
   "cell_type": "code",
   "execution_count": 149,
   "id": "4d4674ef",
   "metadata": {},
   "outputs": [
    {
     "data": {
      "text/plain": [
       "array([[[[27, 28, 29],\n",
       "         [30, 31, 32],\n",
       "         [33, 34, 35]],\n",
       "\n",
       "        [[36, 37, 38],\n",
       "         [39, 40, 41],\n",
       "         [42, 43, 44]],\n",
       "\n",
       "        [[45, 46, 47],\n",
       "         [48, 49, 50],\n",
       "         [51, 52, 53]]],\n",
       "\n",
       "\n",
       "       [[[27, 28, 29],\n",
       "         [30, 31, 32],\n",
       "         [33, 34, 35]],\n",
       "\n",
       "        [[36, 37, 38],\n",
       "         [39, 40, 41],\n",
       "         [42, 43, 44]],\n",
       "\n",
       "        [[45, 46, 47],\n",
       "         [48, 49, 50],\n",
       "         [51, 52, 53]]],\n",
       "\n",
       "\n",
       "       [[[27, 28, 29],\n",
       "         [30, 31, 32],\n",
       "         [33, 34, 35]],\n",
       "\n",
       "        [[36, 37, 38],\n",
       "         [39, 40, 41],\n",
       "         [42, 43, 44]],\n",
       "\n",
       "        [[45, 46, 47],\n",
       "         [48, 49, 50],\n",
       "         [51, 52, 53]]],\n",
       "\n",
       "\n",
       "       [[[27, 28, 29],\n",
       "         [30, 31, 32],\n",
       "         [33, 34, 35]],\n",
       "\n",
       "        [[36, 37, 38],\n",
       "         [39, 40, 41],\n",
       "         [42, 43, 44]],\n",
       "\n",
       "        [[45, 46, 47],\n",
       "         [48, 49, 50],\n",
       "         [51, 52, 53]]]])"
      ]
     },
     "execution_count": 149,
     "metadata": {},
     "output_type": "execute_result"
    }
   ],
   "source": [
    "z[[1, 1, 1, 1]]  # produces a large array"
   ]
  },
  {
   "cell_type": "code",
   "execution_count": 150,
   "id": "ff5b6718",
   "metadata": {},
   "outputs": [
    {
     "data": {
      "text/plain": [
       "40"
      ]
     },
     "execution_count": 150,
     "metadata": {},
     "output_type": "execute_result"
    }
   ],
   "source": [
    "z[(1, 1, 1, 1)]  # returns a single value"
   ]
  },
  {
   "cell_type": "markdown",
   "id": "16a41847",
   "metadata": {},
   "source": [
    "## Structured arrays\n",
    "\n",
    "### Introduction\n",
    "\n",
    "Structured arrays are ndarrays whose datatype is a composition of simpler datatypes organized as a sequence of named `fields`. For example,"
   ]
  },
  {
   "cell_type": "code",
   "execution_count": 151,
   "id": "0d5d2c81",
   "metadata": {},
   "outputs": [
    {
     "data": {
      "text/plain": [
       "array([('Rex', 9, 81.), ('Fido', 3, 27.)],\n",
       "      dtype=[('name', '<U10'), ('age', '<i4'), ('weight', '<f4')])"
      ]
     },
     "execution_count": 151,
     "metadata": {},
     "output_type": "execute_result"
    }
   ],
   "source": [
    "x = np.array([('Rex', 9, 81.0), ('Fido', 3, 27.0)],\n",
    "             dtype=[('name', 'U10'), ('age', 'i4'), ('weight', 'f4')])\n",
    "x"
   ]
  },
  {
   "cell_type": "markdown",
   "id": "cf4f61dc",
   "metadata": {},
   "source": [
    "Here `x` is a one-dimensional array of length two whose datatype is a structure with three fields: 1. A string of length 10 or less named `'name'`, 2. a 32-bit integer named `'age'`, and 3. a 32-bit float named `'weight'`.\n",
    "\n",
    "If you index `x` at position 1 you get a structure:"
   ]
  },
  {
   "cell_type": "code",
   "execution_count": 152,
   "id": "945d7c88",
   "metadata": {},
   "outputs": [
    {
     "data": {
      "text/plain": [
       "('Fido', 3, 27.)"
      ]
     },
     "execution_count": 152,
     "metadata": {},
     "output_type": "execute_result"
    }
   ],
   "source": [
    "x[1]"
   ]
  },
  {
   "cell_type": "markdown",
   "id": "d75bacc4",
   "metadata": {},
   "source": [
    "You can access and modify individual fields of a structured array by indexing with the field name:"
   ]
  },
  {
   "cell_type": "code",
   "execution_count": 153,
   "id": "759f1825",
   "metadata": {},
   "outputs": [
    {
     "data": {
      "text/plain": [
       "array([9, 3], dtype=int32)"
      ]
     },
     "execution_count": 153,
     "metadata": {},
     "output_type": "execute_result"
    }
   ],
   "source": [
    "x['age']"
   ]
  },
  {
   "cell_type": "code",
   "execution_count": 154,
   "id": "13a0c948",
   "metadata": {},
   "outputs": [
    {
     "data": {
      "text/plain": [
       "array([9, 3], dtype=int32)"
      ]
     },
     "execution_count": 154,
     "metadata": {},
     "output_type": "execute_result"
    }
   ],
   "source": [
    "x['age']"
   ]
  },
  {
   "cell_type": "code",
   "execution_count": 155,
   "id": "4ed8668e",
   "metadata": {},
   "outputs": [
    {
     "data": {
      "text/plain": [
       "array([('Rex', 9, 81.), ('Fido', 3, 27.)],\n",
       "      dtype=[('name', '<U10'), ('age', '<i4'), ('weight', '<f4')])"
      ]
     },
     "execution_count": 155,
     "metadata": {},
     "output_type": "execute_result"
    }
   ],
   "source": [
    "x"
   ]
  },
  {
   "cell_type": "markdown",
   "id": "031f6b52",
   "metadata": {},
   "source": [
    "Structured datatypes are designed to be able to mimic 'structs' in the C language, and share a similar memory layout. They are meant for interfacing with C code and for low-level manipulation of structured buffers, for example for interpreting binary blobs. For these purposes they support specialized features such as subarrays, nested datatypes, and unions, and allow control over the memory layout of the structure.\n",
    "\n",
    "Users looking to manipulate tabular data, such as stored in csv files, may find other pydata projects more suitable, such as xarray, pandas, or DataArray. These provide a high-level interface for tabular data analysis and are better optimized for that use. For instance, the C-struct-like memory layout of structured arrays in numpy can lead to poor cache behavior in comparison.\n",
    "\n",
    "### Structured datatypes\n",
    "\n",
    "A structured datatype can be thought of as a sequence of bytes of a certain length (the structure’s `itemsize`) which is interpreted as a collection of fields. Each field has a name, a datatype, and a byte offset within the structure. The datatype of a field may be any numpy datatype including other structured datatypes, and it may also be a *subarray data type* which behaves like an ndarray of a specified shape. The offsets of the fields are arbitrary, and fields may even overlap. These offsets are usually determined automatically by numpy, but can also be specified.\n",
    "\n",
    "#### Structured datatype creation\n",
    "\n",
    "Structured datatypes may be created using the function `numpy.dtype`. There are 4 alternative forms of specification which vary in flexibility and conciseness. In summary they are:\n",
    "\n",
    "- A list of tuples, one tuple per field\n",
    "\n",
    "Each tuple has the form `(fieldname, datatype, shape)` where shape is optional. `fieldname` is a string (or tuple if titles are used, see Field Titles below), `datatype` may be any object convertible to a datatype, and `shape` is a tuple of integers specifying subarray shape."
   ]
  },
  {
   "cell_type": "code",
   "execution_count": 156,
   "id": "bee069e9",
   "metadata": {},
   "outputs": [
    {
     "data": {
      "text/plain": [
       "dtype([('x', '<f4'), ('y', '<f4'), ('z', '<f4', (2, 2))])"
      ]
     },
     "execution_count": 156,
     "metadata": {},
     "output_type": "execute_result"
    }
   ],
   "source": [
    "np.dtype([('x', 'f4'), ('y', np.float32), ('z', 'f4', (2, 2))])"
   ]
  },
  {
   "cell_type": "markdown",
   "id": "52af107e",
   "metadata": {},
   "source": [
    "If `fieldname` is the empty string `''`, the field will be given a default name of the form `f#`, where `#` is the integer index of the field, counting from 0 from the left:"
   ]
  },
  {
   "cell_type": "code",
   "execution_count": 157,
   "id": "d9914bc1",
   "metadata": {},
   "outputs": [
    {
     "data": {
      "text/plain": [
       "dtype([('x', '<f4'), ('f1', '<i4'), ('z', '<i8')])"
      ]
     },
     "execution_count": 157,
     "metadata": {},
     "output_type": "execute_result"
    }
   ],
   "source": [
    "np.dtype([('x', 'f4'), ('', 'i4'), ('z', 'i8')])"
   ]
  },
  {
   "cell_type": "markdown",
   "id": "b7b1ac17",
   "metadata": {},
   "source": [
    "The byte offsets of the fields within the structure and the total structure itemsize are determined automatically.\n",
    "\n",
    "- A string of comma-separated dtype specifications\n",
    "\n",
    "In this shorthand notation any of the *string dtype specifications* may be used in a string and separated by commas. The itemsize and byte offsets of the fields are determined automatically, and the field names are given the default names `f0`, `f1`, etc."
   ]
  },
  {
   "cell_type": "code",
   "execution_count": 158,
   "id": "42eec97a",
   "metadata": {},
   "outputs": [
    {
     "data": {
      "text/plain": [
       "dtype([('f0', '<i8'), ('f1', '<f4'), ('f2', 'S3')])"
      ]
     },
     "execution_count": 158,
     "metadata": {},
     "output_type": "execute_result"
    }
   ],
   "source": [
    "np.dtype('i8, f4, S3')"
   ]
  },
  {
   "cell_type": "code",
   "execution_count": 159,
   "id": "82781fa2",
   "metadata": {},
   "outputs": [
    {
     "data": {
      "text/plain": [
       "dtype([('f0', 'i1', (3,)), ('f1', '<f4'), ('f2', '<f8', (2, 3))])"
      ]
     },
     "execution_count": 159,
     "metadata": {},
     "output_type": "execute_result"
    }
   ],
   "source": [
    "np.dtype('3int8, float32, (2, 3)float64')"
   ]
  },
  {
   "cell_type": "markdown",
   "id": "d1b08b16",
   "metadata": {},
   "source": [
    "- A dictionary of field parameter arrays\n",
    "\n",
    "This is the most flexible form of specification since it allows control over the byte-offsets of the fields and the itemsize of the structure.\n",
    "\n",
    "The dictionary has two required keys, '`names`' and '`formats`', and four optional keys, `'offsets'`, `'itemsize'`, `'aligned'` and '`titles`'. The values for '`names`' and '`formats`' should respectively be a list of field names and a list of dtype specifications, of the same length. The optional `'offsets'` value should be a list of integer byte-offsets, one for each field within the structure. If `'offsets'` is not given the offsets are determined automatically. The optional `'itemsize'` value should be an integer describing the total size in bytes of the dtype, which must be large enough to contain all the fields."
   ]
  },
  {
   "cell_type": "code",
   "execution_count": 160,
   "id": "5f8f5c5c",
   "metadata": {},
   "outputs": [
    {
     "data": {
      "text/plain": [
       "dtype([('col1', '<i4'), ('col2', '<f4')])"
      ]
     },
     "execution_count": 160,
     "metadata": {},
     "output_type": "execute_result"
    }
   ],
   "source": [
    "np.dtype({'names': ['col1', 'col2'], 'formats': ['i4', 'f4']})"
   ]
  },
  {
   "cell_type": "code",
   "execution_count": 161,
   "id": "e475a8d7",
   "metadata": {},
   "outputs": [
    {
     "data": {
      "text/plain": [
       "dtype({'names': ['col1', 'col2'], 'formats': ['<i4', '<f4'], 'offsets': [0, 4], 'itemsize': 12})"
      ]
     },
     "execution_count": 161,
     "metadata": {},
     "output_type": "execute_result"
    }
   ],
   "source": [
    "np.dtype({'names': ['col1', 'col2'],\n",
    "    'formats': ['i4', 'f4'],\n",
    "    'offsets': [0, 4],\n",
    "    'itemsize': 12})"
   ]
  },
  {
   "cell_type": "markdown",
   "id": "e62903cd",
   "metadata": {},
   "source": [
    "Offsets may be chosen such that the fields overlap, though this will mean that assigning to one field may clobber any overlapping field’s data. As an exception, fields of `numpy.object_` type cannot overlap with other fields, because of the risk of clobbering the internal object pointer and then dereferencing it.\n",
    "\n",
    "The optional `'aligned'` value can be set to `True` to make the automatic offset computation use aligned offsets, as if the '`align`' keyword argument of `numpy.dtype` had been set to `True`.\n",
    "\n",
    "- A dictionary of field names\n",
    "\n",
    "The keys of the dictionary are the field names and the values are tuples specifying type and offset:"
   ]
  },
  {
   "cell_type": "code",
   "execution_count": 162,
   "id": "d369a591",
   "metadata": {},
   "outputs": [
    {
     "data": {
      "text/plain": [
       "dtype([('col1', 'i1'), ('col2', '<f4')])"
      ]
     },
     "execution_count": 162,
     "metadata": {},
     "output_type": "execute_result"
    }
   ],
   "source": [
    "np.dtype({'col1': ('i1', 0), 'col2': ('f4', 1)})"
   ]
  },
  {
   "cell_type": "markdown",
   "id": "cd8bd152",
   "metadata": {},
   "source": [
    "#### Manipulating and Displaying Structured Datatypes\n",
    "\n",
    "The list of field names of a structured datatype can be found in the `names` attribute of the dtype object:"
   ]
  },
  {
   "cell_type": "code",
   "execution_count": 163,
   "id": "d601610c",
   "metadata": {},
   "outputs": [
    {
     "data": {
      "text/plain": [
       "('x', 'y')"
      ]
     },
     "execution_count": 163,
     "metadata": {},
     "output_type": "execute_result"
    }
   ],
   "source": [
    "d = np.dtype([('x', 'i8'), ('y', 'f4')])\n",
    "d.names"
   ]
  },
  {
   "cell_type": "markdown",
   "id": "4be4531e",
   "metadata": {},
   "source": [
    "The field names may be modified by assigning to the `names` attribute using a sequence of strings of the same length.\n",
    "\n",
    "The dtype object also has a dictionary-like attribute, `fields`, whose keys are the field names (and Field Titles, see below) and whose values are tuples containing the dtype and byte offset of each field."
   ]
  },
  {
   "cell_type": "code",
   "execution_count": 164,
   "id": "edcd8205",
   "metadata": {},
   "outputs": [
    {
     "data": {
      "text/plain": [
       "mappingproxy({'x': (dtype('int64'), 0), 'y': (dtype('float32'), 8)})"
      ]
     },
     "execution_count": 164,
     "metadata": {},
     "output_type": "execute_result"
    }
   ],
   "source": [
    "d.fields"
   ]
  },
  {
   "cell_type": "markdown",
   "id": "d698e1f2",
   "metadata": {},
   "source": [
    "Both the `names` and `fields` attributes will equal `None` for unstructured arrays. The recommended way to test if a dtype is structured is with `if dt.names is not None` rather than `if dt.names`, to account for dtypes with 0 fields.\n",
    "\n",
    "The string representation of a structured datatype is shown in the ''list of tuples'' form if possible, otherwise numpy falls back to using the more general dictionary form.\n",
    "\n",
    "#### Field Titles\n",
    "\n",
    "In addition to field names, fields may also have an associated title, an alternate name, which is sometimes used as an additional description or alias for the field. The title may be used to index an array, just like a field name.\n",
    "\n",
    "To add titles when using the list-of-tuples form of dtype specification, the field name may be specified as a tuple of two strings instead of a single string, which will be the field’s title and field name respectively. For example:"
   ]
  },
  {
   "cell_type": "code",
   "execution_count": 165,
   "id": "5b893b36",
   "metadata": {},
   "outputs": [
    {
     "data": {
      "text/plain": [
       "dtype([(('my title', 'name'), '<f4')])"
      ]
     },
     "execution_count": 165,
     "metadata": {},
     "output_type": "execute_result"
    }
   ],
   "source": [
    "np.dtype([(('my title', 'name'), 'f4')])"
   ]
  },
  {
   "cell_type": "markdown",
   "id": "adf47bce",
   "metadata": {},
   "source": [
    "When using the first form of dictionary-based specification, the titles may be supplied as an extra `'titles'` key as described above. When using the second (discouraged) dictionary-based specification, the title can be supplied by providing a 3-element tuple `(datatype, offset, title)` instead of the usual 2-element tuple:"
   ]
  },
  {
   "cell_type": "code",
   "execution_count": 166,
   "id": "bb4aa205",
   "metadata": {},
   "outputs": [
    {
     "data": {
      "text/plain": [
       "dtype([(('my title', 'name'), '<i4')])"
      ]
     },
     "execution_count": 166,
     "metadata": {},
     "output_type": "execute_result"
    }
   ],
   "source": [
    "np.dtype({'name': ('i4', 0, 'my title')})"
   ]
  },
  {
   "cell_type": "markdown",
   "id": "ddb46c65",
   "metadata": {},
   "source": [
    "The `dtype.fields` dictionary will contain titles as keys, if any titles are used. This means effectively that a field with a title will be represented twice in the fields dictionary. The tuple values for these fields will also have a third element, the field title. Because of this, and because the `names` attribute preserves the field order while the `fields` attribute may not, it is recommended to iterate through the fields of a dtype using the `names` attribute of the dtype, which will not list titles, as in:"
   ]
  },
  {
   "cell_type": "code",
   "execution_count": 167,
   "id": "315ea46c",
   "metadata": {},
   "outputs": [
    {
     "name": "stdout",
     "output_type": "stream",
     "text": [
      "(dtype('int64'), 0)\n",
      "(dtype('float32'), 8)\n"
     ]
    }
   ],
   "source": [
    "for name in d.names:\n",
    "    print(d.fields[name][:2])"
   ]
  },
  {
   "cell_type": "markdown",
   "id": "b55ee8f8",
   "metadata": {},
   "source": [
    "### Indexing and Assignment to Structured arrays\n",
    "\n",
    "#### Assigning data to a Structured Array\n",
    "\n",
    "There are a number of ways to assign values to a structured array: Using python tuples, using scalar values, or using other structured arrays.\n",
    "\n",
    "##### Assignment from Python Native Types (Tuples)\n",
    "\n",
    "The simplest way to assign values to a structured array is using python tuples. Each assigned value should be a tuple of length equal to the number of fields in the array, and not a list or array as these will trigger numpy’s broadcasting rules. The tuple’s elements are assigned to the successive fields of the array, from left to right:"
   ]
  },
  {
   "cell_type": "code",
   "execution_count": 168,
   "id": "61a2a642",
   "metadata": {},
   "outputs": [
    {
     "data": {
      "text/plain": [
       "array([(1, 2., 3.), (7, 8., 9.)],\n",
       "      dtype=[('f0', '<i8'), ('f1', '<f4'), ('f2', '<f8')])"
      ]
     },
     "execution_count": 168,
     "metadata": {},
     "output_type": "execute_result"
    }
   ],
   "source": [
    "x = np.array([(1, 2, 3), (4, 5, 6)], dtype='i8, f4, f8')\n",
    "x[1] = (7, 8, 9)\n",
    "x"
   ]
  },
  {
   "cell_type": "markdown",
   "id": "7428a3ec",
   "metadata": {},
   "source": [
    "##### Assignment from Scalars\n",
    "\n",
    "A scalar assigned to a structured element will be assigned to all fields. This happens when a scalar is assigned to a structured array, or when an unstructured array is assigned to a structured array:"
   ]
  },
  {
   "cell_type": "code",
   "execution_count": 169,
   "id": "9f6b03b3",
   "metadata": {},
   "outputs": [],
   "source": [
    "x = np.zeros(2, dtype='i8, f4, ?, S1')"
   ]
  },
  {
   "cell_type": "code",
   "execution_count": 170,
   "id": "e3a9de98",
   "metadata": {},
   "outputs": [
    {
     "data": {
      "text/plain": [
       "array([(3, 3.,  True, b'3'), (3, 3.,  True, b'3')],\n",
       "      dtype=[('f0', '<i8'), ('f1', '<f4'), ('f2', '?'), ('f3', 'S1')])"
      ]
     },
     "execution_count": 170,
     "metadata": {},
     "output_type": "execute_result"
    }
   ],
   "source": [
    "x[:] = 3\n",
    "x"
   ]
  },
  {
   "cell_type": "code",
   "execution_count": 171,
   "id": "88351bb9",
   "metadata": {},
   "outputs": [
    {
     "data": {
      "text/plain": [
       "array([(0, 0., False, b'0'), (1, 1.,  True, b'1')],\n",
       "      dtype=[('f0', '<i8'), ('f1', '<f4'), ('f2', '?'), ('f3', 'S1')])"
      ]
     },
     "execution_count": 171,
     "metadata": {},
     "output_type": "execute_result"
    }
   ],
   "source": [
    "x[:] = np.arange(2)\n",
    "x"
   ]
  },
  {
   "cell_type": "markdown",
   "id": "d5f6371f",
   "metadata": {},
   "source": [
    "Structured arrays can also be assigned to unstructured arrays, but only if the structured datatype has just a single field:"
   ]
  },
  {
   "cell_type": "code",
   "execution_count": 172,
   "id": "79b1186a",
   "metadata": {},
   "outputs": [],
   "source": [
    "twofield = np.zeros(2, dtype=[('A', 'i4'), ('B', 'i4')])\n",
    "onefield = np.zeros(2, dtype=[('A', 'i4')])"
   ]
  },
  {
   "cell_type": "code",
   "execution_count": 173,
   "id": "e18215e7",
   "metadata": {},
   "outputs": [],
   "source": [
    "nostruct = np.zeros(2, dtype='i4')"
   ]
  },
  {
   "cell_type": "markdown",
   "id": "174b3cbc",
   "metadata": {},
   "source": [
    "```py\n",
    "nostruct[:] = twofield\n",
    "```\n",
    "\n",
    "```py\n",
    "Traceback (most recent call last):\n",
    "...\n",
    "TypeError: Cannot cast array data from dtype([('A', '<i4'), ('B', '<i4')]) to dtype('int32') according to the rule 'unsafe'\n",
    "```\n",
    "\n",
    "##### Assignment from other Structured Arrays\n",
    "\n",
    "Assignment between two structured arrays occurs as if the source elements had been converted to tuples and then assigned to the destination elements. That is, the first field of the source array is assigned to the first field of the destination array, and the second field likewise, and so on, regardless of field names. Structured arrays with a different number of fields cannot be assigned to each other. Bytes of the destination structure which are not included in any of the fields are unaffected."
   ]
  },
  {
   "cell_type": "code",
   "execution_count": 174,
   "id": "8acc23b2",
   "metadata": {},
   "outputs": [],
   "source": [
    "a = np.zeros(3, dtype=[('a', 'i8'), ('b', 'f4'), ('c', 'S3')])\n",
    "b = np.ones(3, dtype=[('x', 'f4'), ('y', 'S3'), ('z', 'O')])"
   ]
  },
  {
   "cell_type": "code",
   "execution_count": 175,
   "id": "a735f4f5",
   "metadata": {},
   "outputs": [
    {
     "data": {
      "text/plain": [
       "array([(0., b'0.0', b''), (0., b'0.0', b''), (0., b'0.0', b'')],\n",
       "      dtype=[('x', '<f4'), ('y', 'S3'), ('z', 'O')])"
      ]
     },
     "execution_count": 175,
     "metadata": {},
     "output_type": "execute_result"
    }
   ],
   "source": [
    "b[:] = a\n",
    "b"
   ]
  },
  {
   "cell_type": "markdown",
   "id": "15857585",
   "metadata": {},
   "source": [
    "##### Assignment involving subarrays\n",
    "\n",
    "When assigning to fields which are subarrays, the assigned value will first be broadcast to the shape of the subarray.\n",
    "\n",
    "#### Indexing Structured Arrays\n",
    "\n",
    "##### Accessing Individual Fields\n",
    "\n",
    "Individual fields of a structured array may be accessed and modified by indexing the array with the field name."
   ]
  },
  {
   "cell_type": "code",
   "execution_count": 176,
   "id": "9fd75aa5",
   "metadata": {},
   "outputs": [
    {
     "data": {
      "text/plain": [
       "array([1, 3])"
      ]
     },
     "execution_count": 176,
     "metadata": {},
     "output_type": "execute_result"
    }
   ],
   "source": [
    "x = np.array([(1, 2), (3, 4)], dtype=[('foo', 'i8'), ('bar', 'f4')])\n",
    "x['foo']"
   ]
  },
  {
   "cell_type": "code",
   "execution_count": 177,
   "id": "e06a9b7a",
   "metadata": {},
   "outputs": [
    {
     "data": {
      "text/plain": [
       "array([(10, 2.), (10, 4.)], dtype=[('foo', '<i8'), ('bar', '<f4')])"
      ]
     },
     "execution_count": 177,
     "metadata": {},
     "output_type": "execute_result"
    }
   ],
   "source": [
    "x['foo'] = 10\n",
    "x"
   ]
  },
  {
   "cell_type": "markdown",
   "id": "8ef3f2ff",
   "metadata": {},
   "source": [
    "The resulting array is a view into the original array. It shares the same memory locations and writing to the view will modify the original array."
   ]
  },
  {
   "cell_type": "code",
   "execution_count": 178,
   "id": "d6987934",
   "metadata": {},
   "outputs": [
    {
     "data": {
      "text/plain": [
       "array([(10, 11.), (10, 11.)], dtype=[('foo', '<i8'), ('bar', '<f4')])"
      ]
     },
     "execution_count": 178,
     "metadata": {},
     "output_type": "execute_result"
    }
   ],
   "source": [
    "y = x['bar']\n",
    "y[:] = 11\n",
    "x"
   ]
  },
  {
   "cell_type": "markdown",
   "id": "c7dc4f0f",
   "metadata": {},
   "source": [
    "This view has the same dtype and itemsize as the indexed field, so it is typically a non-structured array, except in the case of nested structures."
   ]
  },
  {
   "cell_type": "code",
   "execution_count": 179,
   "id": "a8992dec",
   "metadata": {},
   "outputs": [
    {
     "data": {
      "text/plain": [
       "(dtype('float32'), (2,), (12,))"
      ]
     },
     "execution_count": 179,
     "metadata": {},
     "output_type": "execute_result"
    }
   ],
   "source": [
    "y.dtype, y.shape, y.strides"
   ]
  },
  {
   "cell_type": "markdown",
   "id": "e75a9549",
   "metadata": {},
   "source": [
    "If the accessed field is a subarray, the dimensions of the subarray are appended to the shape of the result:"
   ]
  },
  {
   "cell_type": "code",
   "execution_count": 180,
   "id": "f2c598b9",
   "metadata": {},
   "outputs": [],
   "source": [
    "x = np.zeros((2, 2), dtype=[('a', np.int32), ('b', np.float64, (3, 3))])"
   ]
  },
  {
   "cell_type": "code",
   "execution_count": 181,
   "id": "d3d844c9",
   "metadata": {},
   "outputs": [
    {
     "data": {
      "text/plain": [
       "(2, 2)"
      ]
     },
     "execution_count": 181,
     "metadata": {},
     "output_type": "execute_result"
    }
   ],
   "source": [
    "x['a'].shape"
   ]
  },
  {
   "cell_type": "code",
   "execution_count": 182,
   "id": "e26ce5c8",
   "metadata": {},
   "outputs": [
    {
     "data": {
      "text/plain": [
       "(2, 2, 3, 3)"
      ]
     },
     "execution_count": 182,
     "metadata": {},
     "output_type": "execute_result"
    }
   ],
   "source": [
    "x['b'].shape"
   ]
  },
  {
   "cell_type": "markdown",
   "id": "05a1b3c0",
   "metadata": {},
   "source": [
    "##### Accessing multiple fields\n",
    "\n",
    "One can index and assign to a structured array with a multi-field index, where the index is a list of field names.\n",
    "\n",
    "The result of indexing with a multi-field index is a view into the original array, as follows:"
   ]
  },
  {
   "cell_type": "code",
   "execution_count": 183,
   "id": "d63b115b",
   "metadata": {},
   "outputs": [
    {
     "data": {
      "text/plain": [
       "array([(0, 0.), (0, 0.), (0, 0.)],\n",
       "      dtype={'names': ['a', 'c'], 'formats': ['<i4', '<f4'], 'offsets': [0, 8], 'itemsize': 12})"
      ]
     },
     "execution_count": 183,
     "metadata": {},
     "output_type": "execute_result"
    }
   ],
   "source": [
    "a = np.zeros(3, dtype=[('a', 'i4'), ('b', 'i4'), ('c', 'f4')])\n",
    "a[['a', 'c']]"
   ]
  },
  {
   "cell_type": "markdown",
   "id": "784a1fd0",
   "metadata": {},
   "source": [
    "Assignment to the view modifies the original array. The view’s fields will be in the order they were indexed. Note that unlike for single-field indexing, the dtype of the view has the same itemsize as the original array, and has fields at the same offsets as in the original array, and unindexed fields are merely missing.\n",
    "\n",
    "Assignment to an array with a multi-field index modifies the original array:"
   ]
  },
  {
   "cell_type": "code",
   "execution_count": 184,
   "id": "93fe41e5",
   "metadata": {},
   "outputs": [
    {
     "data": {
      "text/plain": [
       "array([(2, 0, 3.), (2, 0, 3.), (2, 0, 3.)],\n",
       "      dtype=[('a', '<i4'), ('b', '<i4'), ('c', '<f4')])"
      ]
     },
     "execution_count": 184,
     "metadata": {},
     "output_type": "execute_result"
    }
   ],
   "source": [
    "a[['a', 'c']] = (2, 3)\n",
    "a"
   ]
  },
  {
   "cell_type": "markdown",
   "id": "2ccf0256",
   "metadata": {},
   "source": [
    "This obeys the structured array assignment rules described above. For example, this means that one can swap the values of two fields using appropriate multi-field indexes:"
   ]
  },
  {
   "cell_type": "code",
   "execution_count": 185,
   "id": "1cde852a",
   "metadata": {},
   "outputs": [],
   "source": [
    "a[['a', 'c']] = a[['c', 'a']]"
   ]
  },
  {
   "cell_type": "markdown",
   "id": "014a4303",
   "metadata": {},
   "source": [
    "##### Indexing with an integer to get a structured scalar\n",
    "\n",
    "Indexing a single element of a structured array (with an integer index) returns a structured scalar:"
   ]
  },
  {
   "cell_type": "code",
   "execution_count": 186,
   "id": "a5ceca88",
   "metadata": {},
   "outputs": [
    {
     "data": {
      "text/plain": [
       "(1, 2., 3.)"
      ]
     },
     "execution_count": 186,
     "metadata": {},
     "output_type": "execute_result"
    }
   ],
   "source": [
    "x = np.array([(1, 2., 3.)], dtype='i, f, f')\n",
    "scalar = x[0]\n",
    "scalar"
   ]
  },
  {
   "cell_type": "code",
   "execution_count": 187,
   "id": "64d125d4",
   "metadata": {},
   "outputs": [
    {
     "data": {
      "text/plain": [
       "numpy.void"
      ]
     },
     "execution_count": 187,
     "metadata": {},
     "output_type": "execute_result"
    }
   ],
   "source": [
    "type(scalar)"
   ]
  },
  {
   "cell_type": "markdown",
   "id": "1478850b",
   "metadata": {},
   "source": [
    "Unlike other numpy scalars, structured scalars are mutable and act like views into the original array, such that modifying the scalar will modify the original array. Structured scalars also support access and assignment by field name:"
   ]
  },
  {
   "cell_type": "code",
   "execution_count": 188,
   "id": "7eeef3bb",
   "metadata": {},
   "outputs": [
    {
     "data": {
      "text/plain": [
       "array([(1, 100.), (3,   4.)], dtype=[('foo', '<i8'), ('bar', '<f4')])"
      ]
     },
     "execution_count": 188,
     "metadata": {},
     "output_type": "execute_result"
    }
   ],
   "source": [
    "x = np.array([(1, 2), (3, 4)], dtype=[('foo', 'i8'), ('bar', 'f4')])\n",
    "s = x[0]\n",
    "s['bar'] = 100\n",
    "x"
   ]
  },
  {
   "cell_type": "markdown",
   "id": "ffcdc99f",
   "metadata": {},
   "source": [
    "Similarly to tuples, structured scalars can also be indexed with an integer:"
   ]
  },
  {
   "cell_type": "code",
   "execution_count": 189,
   "id": "ec7eb734",
   "metadata": {},
   "outputs": [
    {
     "data": {
      "text/plain": [
       "1"
      ]
     },
     "execution_count": 189,
     "metadata": {},
     "output_type": "execute_result"
    }
   ],
   "source": [
    "scalar = np.array([(1, 2., 3.)], dtype='i, f, f')[0]\n",
    "scalar[0]"
   ]
  },
  {
   "cell_type": "code",
   "execution_count": 190,
   "id": "e1ae194d",
   "metadata": {},
   "outputs": [],
   "source": [
    "scalar[1] = 4"
   ]
  },
  {
   "cell_type": "markdown",
   "id": "db304fb6",
   "metadata": {},
   "source": [
    "Thus, tuples might be thought of as the native Python equivalent to numpy’s structured types, much like native python integers are the equivalent to numpy’s integer types. Structured scalars may be converted to a tuple by calling `numpy.ndarray.item`:"
   ]
  },
  {
   "cell_type": "code",
   "execution_count": 191,
   "id": "40abe818",
   "metadata": {},
   "outputs": [
    {
     "data": {
      "text/plain": [
       "((1, 4.0, 3.0), tuple)"
      ]
     },
     "execution_count": 191,
     "metadata": {},
     "output_type": "execute_result"
    }
   ],
   "source": [
    "scalar.item(), type(scalar.item())"
   ]
  },
  {
   "cell_type": "markdown",
   "id": "28c5430e",
   "metadata": {},
   "source": [
    "#### Viewing structured arrays containing objects\n",
    "\n",
    "In order to prevent clobbering object pointers in fields of `object` type, numpy currently does not allow views of structured arrays containing objects.\n",
    "\n",
    "#### Structure Comparison and Promotion\n",
    "\n",
    "If the dtypes of two void structured arrays are equal, testing the equality of the arrays will result in a boolean array with the dimensions of the original arrays, with elements set to `True` where all fields of the corresponding structures are equal:"
   ]
  },
  {
   "cell_type": "code",
   "execution_count": 192,
   "id": "0a702cd1",
   "metadata": {},
   "outputs": [
    {
     "data": {
      "text/plain": [
       "array([ True, False])"
      ]
     },
     "execution_count": 192,
     "metadata": {},
     "output_type": "execute_result"
    }
   ],
   "source": [
    "a = np.array([(1, 1), (2, 2)], dtype=[('a', 'i4'), ('b', 'i4')])\n",
    "b = np.array([(1, 1), (2, 3)], dtype=[('a', 'i4'), ('b', 'i4')])\n",
    "a == b"
   ]
  },
  {
   "cell_type": "markdown",
   "id": "232c007c",
   "metadata": {},
   "source": [
    "NumPy will promote individual field datatypes to perform the comparison. So the following is also valid (note the `'f4'` dtype for the `'a'` field):"
   ]
  },
  {
   "cell_type": "code",
   "execution_count": 193,
   "id": "298dcfcf",
   "metadata": {},
   "outputs": [
    {
     "data": {
      "text/plain": [
       "array([ True, False])"
      ]
     },
     "execution_count": 193,
     "metadata": {},
     "output_type": "execute_result"
    }
   ],
   "source": [
    "b = np.array([(1.0, 1), (2.5, 2)], dtype=[(\"a\", \"f4\"), (\"b\", \"i4\")])\n",
    "a == b"
   ]
  },
  {
   "cell_type": "markdown",
   "id": "253e0964",
   "metadata": {},
   "source": [
    "To compare two structured arrays, it must be possible to promote them to a common dtype as returned by `numpy.result_type` and `np.promote_types`. This enforces that the number of fields, the field names, and the field titles must match precisely. When promotion is not possible, for example due to mismatching field names, NumPy will raise an error. Promotion between two structured dtypes results in a canonical dtype that ensures native byte-order for all fields:"
   ]
  },
  {
   "cell_type": "code",
   "execution_count": 194,
   "id": "11228e2b",
   "metadata": {},
   "outputs": [
    {
     "data": {
      "text/plain": [
       "dtype([('f0', '<i4'), ('f1', '<i4')])"
      ]
     },
     "execution_count": 194,
     "metadata": {},
     "output_type": "execute_result"
    }
   ],
   "source": [
    "np.result_type(np.dtype(\"i,>i\"))"
   ]
  },
  {
   "cell_type": "code",
   "execution_count": 195,
   "id": "3537c0c4",
   "metadata": {},
   "outputs": [
    {
     "data": {
      "text/plain": [
       "dtype([('f0', '<i4'), ('f1', '<i4')])"
      ]
     },
     "execution_count": 195,
     "metadata": {},
     "output_type": "execute_result"
    }
   ],
   "source": [
    "np.result_type(np.dtype(\"i,>i\"), np.dtype(\"i,i\"))"
   ]
  },
  {
   "cell_type": "markdown",
   "id": "902556f0",
   "metadata": {},
   "source": [
    "The resulting dtype from promotion is also guaranteed to be packed, meaning that all fields are ordered contiguously and any unnecessary padding is removed:"
   ]
  },
  {
   "cell_type": "code",
   "execution_count": 196,
   "id": "09b9dc0b",
   "metadata": {},
   "outputs": [
    {
     "data": {
      "text/plain": [
       "dtype({'names': ['f0', 'f2'], 'formats': ['i1', '<i4'], 'offsets': [0, 4], 'itemsize': 9})"
      ]
     },
     "execution_count": 196,
     "metadata": {},
     "output_type": "execute_result"
    }
   ],
   "source": [
    "dt = np.dtype(\"i1,V3,i4,V1\")[[\"f0\", \"f2\"]]\n",
    "dt"
   ]
  },
  {
   "cell_type": "code",
   "execution_count": 197,
   "id": "27deebf9",
   "metadata": {},
   "outputs": [
    {
     "data": {
      "text/plain": [
       "dtype([('f0', 'i1'), ('f2', '<i4')])"
      ]
     },
     "execution_count": 197,
     "metadata": {},
     "output_type": "execute_result"
    }
   ],
   "source": [
    "np.result_type(dt)"
   ]
  },
  {
   "cell_type": "markdown",
   "id": "79c70c4d",
   "metadata": {},
   "source": [
    "Note that the result prints without `offsets` or `itemsize` indicating no additional padding. If a structured dtype is created with `align=True` ensuring that `dtype.isalignedstruct` is true, this property is preserved:"
   ]
  },
  {
   "cell_type": "code",
   "execution_count": 198,
   "id": "dfd19299",
   "metadata": {},
   "outputs": [
    {
     "data": {
      "text/plain": [
       "dtype({'names': ['f0', 'f2'], 'formats': ['i1', '<i4'], 'offsets': [0, 4], 'itemsize': 12}, align=True)"
      ]
     },
     "execution_count": 198,
     "metadata": {},
     "output_type": "execute_result"
    }
   ],
   "source": [
    "dt = np.dtype(\"i1,V3,i4,V1\", align=True)[[\"f0\", \"f2\"]]\n",
    "dt"
   ]
  },
  {
   "cell_type": "code",
   "execution_count": 199,
   "id": "d1138cb0",
   "metadata": {},
   "outputs": [
    {
     "data": {
      "text/plain": [
       "dtype([('f0', 'i1'), ('f2', '<i4')], align=True)"
      ]
     },
     "execution_count": 199,
     "metadata": {},
     "output_type": "execute_result"
    }
   ],
   "source": [
    "np.result_type(dt)"
   ]
  },
  {
   "cell_type": "code",
   "execution_count": 200,
   "id": "f9f1cf5b",
   "metadata": {},
   "outputs": [
    {
     "data": {
      "text/plain": [
       "True"
      ]
     },
     "execution_count": 200,
     "metadata": {},
     "output_type": "execute_result"
    }
   ],
   "source": [
    "np.result_type(dt).isalignedstruct"
   ]
  },
  {
   "cell_type": "markdown",
   "id": "20bb84ef",
   "metadata": {},
   "source": [
    "When promoting multiple dtypes, the result is aligned if any of the inputs is:"
   ]
  },
  {
   "cell_type": "code",
   "execution_count": 201,
   "id": "30e42370",
   "metadata": {},
   "outputs": [
    {
     "data": {
      "text/plain": [
       "dtype([('f0', '<i4'), ('f1', '<i4')], align=True)"
      ]
     },
     "execution_count": 201,
     "metadata": {},
     "output_type": "execute_result"
    }
   ],
   "source": [
    "np.result_type(np.dtype(\"i,i\"), np.dtype(\"i,i\", align=True))"
   ]
  },
  {
   "cell_type": "markdown",
   "id": "bed8e30c",
   "metadata": {},
   "source": [
    "The `<` and `>` operators always return `False` when comparing void structured arrays, and arithmetic and bitwise operations are not supported.\n",
    "\n",
    "## Your turn! 🚀\n",
    "\n",
    "### 🚀 Challenge 1: analyzing COVID spread\n",
    "\n",
    "First problem we will focus on is modelling of epidemic spread of COVID-19. In order to do that, we will use the data on the number of infected individuals in different countries, provided by the [Center for Systems Science and Engineering](https://systems.jhu.edu/) (CSSE) at [Johns Hopkins University](https://jhu.edu/). Dataset is available in [this GitHub Repository](https://github.com/CSSEGISandData/COVID-19).\n",
    "\n",
    "Since we want to demonstrate how to deal with data, we invite you to open [Estimation of COVID-19 pandemic](../../assignments/data-science/estimation-of-COVID-19-pandemic.ipynb) and read it from top to bottom. You can also execute cells, and do some challenges that we have left for you at the end.\n",
    "\n",
    "![COVID Spread](../../../images/covidspread.png)\n",
    "\n",
    "### Working with unstructured Data\n",
    "\n",
    "While data very often comes in tabular form, in some cases we need to deal with less structured data, for example, text or images. In this case, to apply data processing techniques we have seen above, we need to somehow **extract** structured data. Here are a few examples:\n",
    "\n",
    "- Extracting keywords from text, and seeing how often those keywords appear\n",
    "- Using neural networks to extract information about objects on the picture\n",
    "- Getting information on emotions of people on video camera feed\n",
    "\n",
    "### 🚀 Challenge 2: analyzing COVID papers\n",
    "\n",
    "In this challenge, we will continue with the topic of COVID pandemic, and focus on processing scientific papers on the subject. There is [CORD-19 Dataset](https://www.kaggle.com/allen-institute-for-ai/CORD-19-research-challenge) with more than 7000 (at the time of writing) papers on COVID, available with metadata and abstracts (and for about half of them there is also full text provided).\n",
    "\n",
    "A full example of analyzing this dataset using [Text Analytics for Health](https://docs.microsoft.com/azure/cognitive-services/text-analytics/how-tos/text-analytics-for-health/?WT.mc_id=academic-77958-bethanycheum) cognitive service is described [in this blog post](https://soshnikov.com/science/analyzing-medical-papers-with-azure-and-text-analytics-for-health/). We will discuss simplified version of this analysis.\n",
    "\n",
    "```{note}\n",
    "We do not provide a copy of the dataset as part of this repository. You may first need to download the [`metadata.csv`](https://www.kaggle.com/allen-institute-for-ai/CORD-19-research-challenge?select=metadata.csv) file from [this dataset on Kaggle](https://www.kaggle.com/allen-institute-for-ai/CORD-19-research-challenge). Registration with Kaggle may be required. You may also download the dataset without registration [from here](https://ai2-semanticscholar-cord-19.s3-us-west-2.amazonaws.com/historical_releases.html), but it will include all full texts in addition to metadata file.\n",
    "```\n",
    "\n",
    "Open [Analyzing COVID-19 papers](../../assignments/data-science/analyzing-COVID-19-papers.ipynb) and read it from top to bottom. You can also execute cells, and do some challenges that we have left for you at the end.\n",
    "\n",
    "![Covid Medical Treatment](../../../images/covidtreat.png)\n",
    "\n",
    "## Self study\n",
    "\n",
    "**Books**\n",
    "\n",
    "- [Wes McKinney. Python for Data Analysis: Data Wrangling with Pandas, NumPy, and IPython](https://www.amazon.com/gp/product/1491957662)\n",
    "\n",
    "**Online resources**\n",
    "\n",
    "- Official [10 minutes to Pandas](https://pandas.pydata.org/pandas-docs/stable/user_guide/10min.html) tutorial\n",
    "- [Documentation on Pandas Visualization](https://pandas.pydata.org/pandas-docs/stable/user_guide/visualization.html)\n",
    "\n",
    "**Learning Python**\n",
    "\n",
    "- [Learn Python in a Fun Way with Turtle Graphics and Fractals](https://github.com/shwars/pycourse)\n",
    "- [Take your First Steps with Python](https://docs.microsoft.com/learn/paths/python-first-steps/?WT.mc_id=academic-77958-bethanycheum) Learning Path on [Microsoft Learn](http://learn.microsoft.com/?WT.mc_id=academic-77958-bethanycheum)\n",
    "\n",
    "## Acknowledgments\n",
    "\n",
    "Thanks for [NumPy user guide](https://numpy.org/doc/stable/user/index.html#user). It contributes the introduction to NumPy.\n",
    "\n",
    "Thanks to Microsoft for creating the open source course [Data Science for Beginners](https://github.com/microsoft/Data-Science-For-Beginners). It contributes assignment section in this chapter."
   ]
  }
 ],
 "metadata": {
  "jupytext": {
   "cell_metadata_filter": "-all",
   "formats": "md:myst",
   "text_representation": {
    "extension": ".md",
    "format_name": "myst",
    "format_version": 0.13,
    "jupytext_version": "1.11.5"
   }
  },
  "kernelspec": {
   "display_name": "Python 3",
   "language": "python",
   "name": "python3"
  },
  "language_info": {
   "codemirror_mode": {
    "name": "ipython",
    "version": 3
   },
   "file_extension": ".py",
   "mimetype": "text/x-python",
   "name": "python",
   "nbconvert_exporter": "python",
   "pygments_lexer": "ipython3",
   "version": "3.9.15"
  },
  "source_map": [
   14,
   26,
   29,
   37,
   41,
   45,
   47,
   51,
   53,
   57,
   59,
   63,
   65,
   69,
   71,
   75,
   77,
   81,
   83,
   92,
   94,
   98,
   100,
   111,
   114,
   118,
   120,
   124,
   127,
   131,
   133,
   144,
   150,
   152,
   157,
   159,
   164,
   166,
   171,
   175,
   177,
   182,
   184,
   189,
   191,
   199,
   202,
   207,
   210,
   214,
   216,
   232,
   235,
   239,
   242,
   246,
   249,
   253,
   256,
   261,
   264,
   268,
   271,
   275,
   278,
   284,
   288,
   292,
   296,
   300,
   302,
   310,
   312,
   316,
   318,
   322,
   325,
   329,
   332,
   336,
   339,
   343,
   346,
   352,
   354,
   358,
   361,
   367,
   371,
   375,
   377,
   381,
   384,
   392,
   394,
   398,
   401,
   407,
   412,
   416,
   418,
   422,
   424,
   430,
   433,
   437,
   439,
   443,
   445,
   453,
   455,
   459,
   464,
   469,
   471,
   475,
   477,
   485,
   488,
   492,
   494,
   498,
   502,
   506,
   509,
   515,
   517,
   521,
   523,
   527,
   529,
   535,
   538,
   546,
   550,
   554,
   556,
   560,
   564,
   568,
   570,
   574,
   576,
   580,
   582,
   600,
   604,
   608,
   610,
   614,
   618,
   622,
   624,
   628,
   630,
   634,
   636,
   658,
   661,
   665,
   669,
   671,
   675,
   677,
   681,
   686,
   688,
   708,
   710,
   714,
   716,
   720,
   724,
   726,
   730,
   733,
   751,
   755,
   759,
   763,
   765,
   769,
   773,
   775,
   800,
   804,
   808,
   810,
   828,
   830,
   834,
   836,
   846,
   849,
   857,
   867,
   871,
   876,
   880,
   882,
   886,
   888,
   892,
   894,
   910,
   913,
   917,
   921,
   929,
   934,
   938,
   940,
   948,
   952,
   960,
   968,
   972,
   976,
   978,
   984,
   987,
   993,
   998,
   1001,
   1009,
   1012,
   1016,
   1018,
   1022,
   1029,
   1033,
   1035,
   1056,
   1061,
   1065,
   1067,
   1079,
   1083,
   1087,
   1091,
   1095,
   1097,
   1107,
   1110,
   1114,
   1116,
   1120,
   1123,
   1137,
   1142,
   1145,
   1153,
   1157,
   1163,
   1166,
   1170,
   1173,
   1179,
   1183,
   1185,
   1193,
   1197,
   1203,
   1205,
   1209,
   1213,
   1217,
   1219,
   1237,
   1239,
   1243,
   1245,
   1253,
   1257,
   1259,
   1267,
   1271,
   1276,
   1286,
   1288,
   1294,
   1297,
   1303,
   1305,
   1317,
   1319,
   1323,
   1325,
   1329,
   1332,
   1344,
   1348,
   1354,
   1358,
   1363,
   1366,
   1370,
   1375,
   1377,
   1393,
   1398,
   1401,
   1413,
   1418,
   1421,
   1425,
   1429,
   1433,
   1435,
   1439,
   1443,
   1447,
   1449,
   1457,
   1460,
   1466,
   1469,
   1473,
   1475,
   1481,
   1487,
   1489,
   1493,
   1498,
   1502,
   1507,
   1509,
   1513,
   1515,
   1525,
   1529,
   1533,
   1536,
   1540,
   1544,
   1546,
   1550,
   1555,
   1557,
   1561,
   1566,
   1570,
   1572,
   1576,
   1578
  ]
 },
 "nbformat": 4,
 "nbformat_minor": 5
}